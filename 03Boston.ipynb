{
  "nbformat": 4,
  "nbformat_minor": 0,
  "metadata": {
    "colab": {
      "name": "03.Boston.ipynb",
      "provenance": [],
      "collapsed_sections": [],
      "authorship_tag": "ABX9TyP3gA0NI/JA+/ci+Iv3i/ld",
      "include_colab_link": true
    },
    "kernelspec": {
      "name": "python3",
      "display_name": "Python 3"
    },
    "language_info": {
      "name": "python"
    }
  },
  "cells": [
    {
      "cell_type": "markdown",
      "metadata": {
        "id": "view-in-github",
        "colab_type": "text"
      },
      "source": [
        "<a href=\"https://colab.research.google.com/github/dbahiense/MachineLearning/blob/main/03Boston.ipynb\" target=\"_parent\"><img src=\"https://colab.research.google.com/assets/colab-badge.svg\" alt=\"Open In Colab\"/></a>"
      ]
    },
    {
      "cell_type": "markdown",
      "source": [
        "# **III. PROBLEMA DE REGRESSÃO**"
      ],
      "metadata": {
        "id": "7bdJfdhWA5Ql"
      }
    },
    {
      "cell_type": "markdown",
      "source": [
        "# 1. Preparativos\n",
        "---"
      ],
      "metadata": {
        "id": "QK_EFDA6UPQz"
      }
    },
    {
      "cell_type": "markdown",
      "source": [
        "## 1.1 Importar Bibliotecas e Módulos"
      ],
      "metadata": {
        "id": "c2NawlGj-O0P"
      }
    },
    {
      "cell_type": "code",
      "source": [
        "#importar bibliotecas e módulos necessários\n",
        "import numpy\n",
        "from numpy import arange\n",
        "from numpy import set_printoptions\n",
        "\n",
        "from matplotlib import pyplot\n",
        "\n",
        "from pandas import read_csv\n",
        "from pandas import set_option\n",
        "from pandas.plotting import scatter_matrix\n",
        "\n",
        "from sklearn.preprocessing import StandardScaler\n",
        "\n",
        "from sklearn.model_selection import train_test_split\n",
        "from sklearn.model_selection import KFold\n",
        "from sklearn.model_selection import cross_val_score\n",
        "from sklearn.model_selection import GridSearchCV\n",
        "\n",
        "from sklearn.linear_model import LinearRegression\n",
        "from sklearn.linear_model import Lasso\n",
        "from sklearn.linear_model import ElasticNet\n",
        "from sklearn.tree import DecisionTreeRegressor\n",
        "from sklearn.neighbors import KNeighborsRegressor\n",
        "from sklearn.svm import SVR\n",
        "\n",
        "from sklearn.pipeline import Pipeline\n",
        "\n",
        "from sklearn.ensemble import RandomForestRegressor\n",
        "from sklearn.ensemble import GradientBoostingRegressor\n",
        "from sklearn.ensemble import ExtraTreesRegressor\n",
        "from sklearn.ensemble import AdaBoostRegressor\n",
        "from sklearn.metrics import mean_squared_error\n",
        "\n",
        "import joblib"
      ],
      "metadata": {
        "id": "NcO7g25P-aBs"
      },
      "execution_count": 34,
      "outputs": []
    },
    {
      "cell_type": "markdown",
      "source": [
        "## 1.2 Parâmetros"
      ],
      "metadata": {
        "id": "4Wn-83xW-x-w"
      }
    },
    {
      "cell_type": "code",
      "source": [
        "# Opções e métricas para treino e teste\n",
        "test_size = 0.20\n",
        "seed = 7\n",
        "num_folds = 10\n",
        "scoring = 'neg_mean_squared_error'"
      ],
      "metadata": {
        "id": "WCxljMYs_WwZ"
      },
      "execution_count": 35,
      "outputs": []
    },
    {
      "cell_type": "markdown",
      "source": [
        "---\n",
        "**Notas:**  \n",
        "- `test_size`é um float...\n",
        "\n",
        "- `seed` é um inteiro utilizado em `random_state` que, por sua vez, indica o grau de *embaralhamento* (shuffling) aplicado aos dados antes do fatiamento.  \n",
        "https://scikit-learn.org/stable/glossary.html#term-random_state  \n",
        "https://scikit-learn.org/stable/modules/generated/sklearn.model_selection.train_test_split.html"
      ],
      "metadata": {
        "id": "QnIum9qWI0GM"
      }
    },
    {
      "cell_type": "markdown",
      "source": [
        "# 2. Dados\n",
        "---"
      ],
      "metadata": {
        "id": "MaDSyZVjuQtq"
      }
    },
    {
      "cell_type": "markdown",
      "source": [
        "## 2.1 Obter Dados"
      ],
      "metadata": {
        "id": "3ajvjvGi7J8M"
      }
    },
    {
      "cell_type": "code",
      "source": [
        "#endereço dos dados originais\n",
        "#pode ser modificado para endereço local na própria máquina\n",
        "url = \"https://gist.githubusercontent.com/dbahiense/10f30ddee5ea0e44b63bb08db1010c9d/raw/368fb94696d70253dc9cd4683bec6fad4fcf22ee/housing.csv\"\n",
        "\n",
        "#nome dos atributos\n",
        "columns = ['CRIM', 'ZN', 'INDUS', 'CHAS', 'NOX', 'RM', 'AGE', 'DIS', 'RAD', 'TAX', 'PTRATIO', 'B', 'LSTAT', 'MEDV']\n",
        "\n",
        "#lê o arquivo\n",
        "#delimitador é espaço em branco (delim_whitespace = True)\n",
        "data = read_csv(url, delim_whitespace=True, names=columns)"
      ],
      "metadata": {
        "id": "iDImqQuu-lLe"
      },
      "execution_count": 36,
      "outputs": []
    },
    {
      "cell_type": "markdown",
      "source": [
        "## 2.2 Entender Dados"
      ],
      "metadata": {
        "id": "lNBcgz-pFzIc"
      }
    },
    {
      "cell_type": "markdown",
      "source": [
        "### 2.2.1 Descrever Dados"
      ],
      "metadata": {
        "id": "Yii1kf388WDk"
      }
    },
    {
      "cell_type": "code",
      "execution_count": 37,
      "metadata": {
        "colab": {
          "base_uri": "https://localhost:8080/"
        },
        "id": "5YHs1elW38lw",
        "outputId": "d17bde68-e82c-4e44-88c0-17a17f553866"
      },
      "outputs": [
        {
          "output_type": "execute_result",
          "data": {
            "text/plain": [
              "(506, 14)"
            ]
          },
          "metadata": {},
          "execution_count": 37
        }
      ],
      "source": [
        "#mostra as dimensões do dataset\n",
        "shape = data.shape #(linhas, colunas)\n",
        "shape"
      ]
    },
    {
      "cell_type": "code",
      "source": [
        "#mostra as primeiras n instâncias dos dados\n",
        "peek = data.head(10) #head(n) para mostrar as primeiras n linhas, default n = 5\n",
        "peek"
      ],
      "metadata": {
        "colab": {
          "base_uri": "https://localhost:8080/",
          "height": 363
        },
        "id": "NuRDv18ODau_",
        "outputId": "66deddb2-e7fb-4b4e-e048-1438c5ed4dc3"
      },
      "execution_count": 38,
      "outputs": [
        {
          "output_type": "execute_result",
          "data": {
            "text/plain": [
              "       CRIM    ZN  INDUS  CHAS   NOX    RM    AGE   DIS  RAD    TAX  PTRATIO  \\\n",
              "0  6.32e-03  18.0   2.31     0  0.54  6.58   65.2  4.09    1  296.0     15.3   \n",
              "1  2.73e-02   0.0   7.07     0  0.47  6.42   78.9  4.97    2  242.0     17.8   \n",
              "2  2.73e-02   0.0   7.07     0  0.47  7.18   61.1  4.97    2  242.0     17.8   \n",
              "3  3.24e-02   0.0   2.18     0  0.46  7.00   45.8  6.06    3  222.0     18.7   \n",
              "4  6.91e-02   0.0   2.18     0  0.46  7.15   54.2  6.06    3  222.0     18.7   \n",
              "5  2.99e-02   0.0   2.18     0  0.46  6.43   58.7  6.06    3  222.0     18.7   \n",
              "6  8.83e-02  12.5   7.87     0  0.52  6.01   66.6  5.56    5  311.0     15.2   \n",
              "7  1.45e-01  12.5   7.87     0  0.52  6.17   96.1  5.95    5  311.0     15.2   \n",
              "8  2.11e-01  12.5   7.87     0  0.52  5.63  100.0  6.08    5  311.0     15.2   \n",
              "9  1.70e-01  12.5   7.87     0  0.52  6.00   85.9  6.59    5  311.0     15.2   \n",
              "\n",
              "        B  LSTAT  MEDV  \n",
              "0  396.90   4.98  24.0  \n",
              "1  396.90   9.14  21.6  \n",
              "2  392.83   4.03  34.7  \n",
              "3  394.63   2.94  33.4  \n",
              "4  396.90   5.33  36.2  \n",
              "5  394.12   5.21  28.7  \n",
              "6  395.60  12.43  22.9  \n",
              "7  396.90  19.15  27.1  \n",
              "8  386.63  29.93  16.5  \n",
              "9  386.71  17.10  18.9  "
            ],
            "text/html": [
              "\n",
              "  <div id=\"df-0d6ce918-48bf-4b5f-b1ce-9b20f3721c33\">\n",
              "    <div class=\"colab-df-container\">\n",
              "      <div>\n",
              "<style scoped>\n",
              "    .dataframe tbody tr th:only-of-type {\n",
              "        vertical-align: middle;\n",
              "    }\n",
              "\n",
              "    .dataframe tbody tr th {\n",
              "        vertical-align: top;\n",
              "    }\n",
              "\n",
              "    .dataframe thead th {\n",
              "        text-align: right;\n",
              "    }\n",
              "</style>\n",
              "<table border=\"1\" class=\"dataframe\">\n",
              "  <thead>\n",
              "    <tr style=\"text-align: right;\">\n",
              "      <th></th>\n",
              "      <th>CRIM</th>\n",
              "      <th>ZN</th>\n",
              "      <th>INDUS</th>\n",
              "      <th>CHAS</th>\n",
              "      <th>NOX</th>\n",
              "      <th>RM</th>\n",
              "      <th>AGE</th>\n",
              "      <th>DIS</th>\n",
              "      <th>RAD</th>\n",
              "      <th>TAX</th>\n",
              "      <th>PTRATIO</th>\n",
              "      <th>B</th>\n",
              "      <th>LSTAT</th>\n",
              "      <th>MEDV</th>\n",
              "    </tr>\n",
              "  </thead>\n",
              "  <tbody>\n",
              "    <tr>\n",
              "      <th>0</th>\n",
              "      <td>6.32e-03</td>\n",
              "      <td>18.0</td>\n",
              "      <td>2.31</td>\n",
              "      <td>0</td>\n",
              "      <td>0.54</td>\n",
              "      <td>6.58</td>\n",
              "      <td>65.2</td>\n",
              "      <td>4.09</td>\n",
              "      <td>1</td>\n",
              "      <td>296.0</td>\n",
              "      <td>15.3</td>\n",
              "      <td>396.90</td>\n",
              "      <td>4.98</td>\n",
              "      <td>24.0</td>\n",
              "    </tr>\n",
              "    <tr>\n",
              "      <th>1</th>\n",
              "      <td>2.73e-02</td>\n",
              "      <td>0.0</td>\n",
              "      <td>7.07</td>\n",
              "      <td>0</td>\n",
              "      <td>0.47</td>\n",
              "      <td>6.42</td>\n",
              "      <td>78.9</td>\n",
              "      <td>4.97</td>\n",
              "      <td>2</td>\n",
              "      <td>242.0</td>\n",
              "      <td>17.8</td>\n",
              "      <td>396.90</td>\n",
              "      <td>9.14</td>\n",
              "      <td>21.6</td>\n",
              "    </tr>\n",
              "    <tr>\n",
              "      <th>2</th>\n",
              "      <td>2.73e-02</td>\n",
              "      <td>0.0</td>\n",
              "      <td>7.07</td>\n",
              "      <td>0</td>\n",
              "      <td>0.47</td>\n",
              "      <td>7.18</td>\n",
              "      <td>61.1</td>\n",
              "      <td>4.97</td>\n",
              "      <td>2</td>\n",
              "      <td>242.0</td>\n",
              "      <td>17.8</td>\n",
              "      <td>392.83</td>\n",
              "      <td>4.03</td>\n",
              "      <td>34.7</td>\n",
              "    </tr>\n",
              "    <tr>\n",
              "      <th>3</th>\n",
              "      <td>3.24e-02</td>\n",
              "      <td>0.0</td>\n",
              "      <td>2.18</td>\n",
              "      <td>0</td>\n",
              "      <td>0.46</td>\n",
              "      <td>7.00</td>\n",
              "      <td>45.8</td>\n",
              "      <td>6.06</td>\n",
              "      <td>3</td>\n",
              "      <td>222.0</td>\n",
              "      <td>18.7</td>\n",
              "      <td>394.63</td>\n",
              "      <td>2.94</td>\n",
              "      <td>33.4</td>\n",
              "    </tr>\n",
              "    <tr>\n",
              "      <th>4</th>\n",
              "      <td>6.91e-02</td>\n",
              "      <td>0.0</td>\n",
              "      <td>2.18</td>\n",
              "      <td>0</td>\n",
              "      <td>0.46</td>\n",
              "      <td>7.15</td>\n",
              "      <td>54.2</td>\n",
              "      <td>6.06</td>\n",
              "      <td>3</td>\n",
              "      <td>222.0</td>\n",
              "      <td>18.7</td>\n",
              "      <td>396.90</td>\n",
              "      <td>5.33</td>\n",
              "      <td>36.2</td>\n",
              "    </tr>\n",
              "    <tr>\n",
              "      <th>5</th>\n",
              "      <td>2.99e-02</td>\n",
              "      <td>0.0</td>\n",
              "      <td>2.18</td>\n",
              "      <td>0</td>\n",
              "      <td>0.46</td>\n",
              "      <td>6.43</td>\n",
              "      <td>58.7</td>\n",
              "      <td>6.06</td>\n",
              "      <td>3</td>\n",
              "      <td>222.0</td>\n",
              "      <td>18.7</td>\n",
              "      <td>394.12</td>\n",
              "      <td>5.21</td>\n",
              "      <td>28.7</td>\n",
              "    </tr>\n",
              "    <tr>\n",
              "      <th>6</th>\n",
              "      <td>8.83e-02</td>\n",
              "      <td>12.5</td>\n",
              "      <td>7.87</td>\n",
              "      <td>0</td>\n",
              "      <td>0.52</td>\n",
              "      <td>6.01</td>\n",
              "      <td>66.6</td>\n",
              "      <td>5.56</td>\n",
              "      <td>5</td>\n",
              "      <td>311.0</td>\n",
              "      <td>15.2</td>\n",
              "      <td>395.60</td>\n",
              "      <td>12.43</td>\n",
              "      <td>22.9</td>\n",
              "    </tr>\n",
              "    <tr>\n",
              "      <th>7</th>\n",
              "      <td>1.45e-01</td>\n",
              "      <td>12.5</td>\n",
              "      <td>7.87</td>\n",
              "      <td>0</td>\n",
              "      <td>0.52</td>\n",
              "      <td>6.17</td>\n",
              "      <td>96.1</td>\n",
              "      <td>5.95</td>\n",
              "      <td>5</td>\n",
              "      <td>311.0</td>\n",
              "      <td>15.2</td>\n",
              "      <td>396.90</td>\n",
              "      <td>19.15</td>\n",
              "      <td>27.1</td>\n",
              "    </tr>\n",
              "    <tr>\n",
              "      <th>8</th>\n",
              "      <td>2.11e-01</td>\n",
              "      <td>12.5</td>\n",
              "      <td>7.87</td>\n",
              "      <td>0</td>\n",
              "      <td>0.52</td>\n",
              "      <td>5.63</td>\n",
              "      <td>100.0</td>\n",
              "      <td>6.08</td>\n",
              "      <td>5</td>\n",
              "      <td>311.0</td>\n",
              "      <td>15.2</td>\n",
              "      <td>386.63</td>\n",
              "      <td>29.93</td>\n",
              "      <td>16.5</td>\n",
              "    </tr>\n",
              "    <tr>\n",
              "      <th>9</th>\n",
              "      <td>1.70e-01</td>\n",
              "      <td>12.5</td>\n",
              "      <td>7.87</td>\n",
              "      <td>0</td>\n",
              "      <td>0.52</td>\n",
              "      <td>6.00</td>\n",
              "      <td>85.9</td>\n",
              "      <td>6.59</td>\n",
              "      <td>5</td>\n",
              "      <td>311.0</td>\n",
              "      <td>15.2</td>\n",
              "      <td>386.71</td>\n",
              "      <td>17.10</td>\n",
              "      <td>18.9</td>\n",
              "    </tr>\n",
              "  </tbody>\n",
              "</table>\n",
              "</div>\n",
              "      <button class=\"colab-df-convert\" onclick=\"convertToInteractive('df-0d6ce918-48bf-4b5f-b1ce-9b20f3721c33')\"\n",
              "              title=\"Convert this dataframe to an interactive table.\"\n",
              "              style=\"display:none;\">\n",
              "        \n",
              "  <svg xmlns=\"http://www.w3.org/2000/svg\" height=\"24px\"viewBox=\"0 0 24 24\"\n",
              "       width=\"24px\">\n",
              "    <path d=\"M0 0h24v24H0V0z\" fill=\"none\"/>\n",
              "    <path d=\"M18.56 5.44l.94 2.06.94-2.06 2.06-.94-2.06-.94-.94-2.06-.94 2.06-2.06.94zm-11 1L8.5 8.5l.94-2.06 2.06-.94-2.06-.94L8.5 2.5l-.94 2.06-2.06.94zm10 10l.94 2.06.94-2.06 2.06-.94-2.06-.94-.94-2.06-.94 2.06-2.06.94z\"/><path d=\"M17.41 7.96l-1.37-1.37c-.4-.4-.92-.59-1.43-.59-.52 0-1.04.2-1.43.59L10.3 9.45l-7.72 7.72c-.78.78-.78 2.05 0 2.83L4 21.41c.39.39.9.59 1.41.59.51 0 1.02-.2 1.41-.59l7.78-7.78 2.81-2.81c.8-.78.8-2.07 0-2.86zM5.41 20L4 18.59l7.72-7.72 1.47 1.35L5.41 20z\"/>\n",
              "  </svg>\n",
              "      </button>\n",
              "      \n",
              "  <style>\n",
              "    .colab-df-container {\n",
              "      display:flex;\n",
              "      flex-wrap:wrap;\n",
              "      gap: 12px;\n",
              "    }\n",
              "\n",
              "    .colab-df-convert {\n",
              "      background-color: #E8F0FE;\n",
              "      border: none;\n",
              "      border-radius: 50%;\n",
              "      cursor: pointer;\n",
              "      display: none;\n",
              "      fill: #1967D2;\n",
              "      height: 32px;\n",
              "      padding: 0 0 0 0;\n",
              "      width: 32px;\n",
              "    }\n",
              "\n",
              "    .colab-df-convert:hover {\n",
              "      background-color: #E2EBFA;\n",
              "      box-shadow: 0px 1px 2px rgba(60, 64, 67, 0.3), 0px 1px 3px 1px rgba(60, 64, 67, 0.15);\n",
              "      fill: #174EA6;\n",
              "    }\n",
              "\n",
              "    [theme=dark] .colab-df-convert {\n",
              "      background-color: #3B4455;\n",
              "      fill: #D2E3FC;\n",
              "    }\n",
              "\n",
              "    [theme=dark] .colab-df-convert:hover {\n",
              "      background-color: #434B5C;\n",
              "      box-shadow: 0px 1px 3px 1px rgba(0, 0, 0, 0.15);\n",
              "      filter: drop-shadow(0px 1px 2px rgba(0, 0, 0, 0.3));\n",
              "      fill: #FFFFFF;\n",
              "    }\n",
              "  </style>\n",
              "\n",
              "      <script>\n",
              "        const buttonEl =\n",
              "          document.querySelector('#df-0d6ce918-48bf-4b5f-b1ce-9b20f3721c33 button.colab-df-convert');\n",
              "        buttonEl.style.display =\n",
              "          google.colab.kernel.accessAllowed ? 'block' : 'none';\n",
              "\n",
              "        async function convertToInteractive(key) {\n",
              "          const element = document.querySelector('#df-0d6ce918-48bf-4b5f-b1ce-9b20f3721c33');\n",
              "          const dataTable =\n",
              "            await google.colab.kernel.invokeFunction('convertToInteractive',\n",
              "                                                     [key], {});\n",
              "          if (!dataTable) return;\n",
              "\n",
              "          const docLinkHtml = 'Like what you see? Visit the ' +\n",
              "            '<a target=\"_blank\" href=https://colab.research.google.com/notebooks/data_table.ipynb>data table notebook</a>'\n",
              "            + ' to learn more about interactive tables.';\n",
              "          element.innerHTML = '';\n",
              "          dataTable['output_type'] = 'display_data';\n",
              "          await google.colab.output.renderOutput(dataTable, element);\n",
              "          const docLink = document.createElement('div');\n",
              "          docLink.innerHTML = docLinkHtml;\n",
              "          element.appendChild(docLink);\n",
              "        }\n",
              "      </script>\n",
              "    </div>\n",
              "  </div>\n",
              "  "
            ]
          },
          "metadata": {},
          "execution_count": 38
        }
      ]
    },
    {
      "cell_type": "code",
      "source": [
        "#mostra os tipos de dados de cada atributo (coluna)\n",
        "types = data.dtypes\n",
        "types"
      ],
      "metadata": {
        "colab": {
          "base_uri": "https://localhost:8080/"
        },
        "id": "Ec-KoJE8HW8A",
        "outputId": "ac1b5b85-1685-4ced-d505-a9fe7417a6b2"
      },
      "execution_count": 39,
      "outputs": [
        {
          "output_type": "execute_result",
          "data": {
            "text/plain": [
              "CRIM       float64\n",
              "ZN         float64\n",
              "INDUS      float64\n",
              "CHAS         int64\n",
              "NOX        float64\n",
              "RM         float64\n",
              "AGE        float64\n",
              "DIS        float64\n",
              "RAD          int64\n",
              "TAX        float64\n",
              "PTRATIO    float64\n",
              "B          float64\n",
              "LSTAT      float64\n",
              "MEDV       float64\n",
              "dtype: object"
            ]
          },
          "metadata": {},
          "execution_count": 39
        }
      ]
    },
    {
      "cell_type": "markdown",
      "source": [
        "### 2.2.2 Estatística Descritiva  \n",
        "\n",
        "**mais:** https://www.investopedia.com/terms/d/descriptive_statistics.asp"
      ],
      "metadata": {
        "id": "OMhxSd7VG0G2"
      }
    },
    {
      "cell_type": "code",
      "source": [
        "#mostra os dados estatísticos de cada atributo (coluna)\n",
        "set_option('precision', 1) #precisão de uma casa decimal após a vírgula\n",
        "description = data.describe()\n",
        "description"
      ],
      "metadata": {
        "colab": {
          "base_uri": "https://localhost:8080/",
          "height": 300
        },
        "id": "6_xht5XdG4Jo",
        "outputId": "384ec172-8b64-4ad8-acbd-a9b3f63a1942"
      },
      "execution_count": 40,
      "outputs": [
        {
          "output_type": "execute_result",
          "data": {
            "text/plain": [
              "          CRIM     ZN  INDUS     CHAS    NOX     RM    AGE    DIS    RAD  \\\n",
              "count  5.1e+02  506.0  506.0  5.1e+02  506.0  506.0  506.0  506.0  506.0   \n",
              "mean   3.6e+00   11.4   11.1  6.9e-02    0.6    6.3   68.6    3.8    9.5   \n",
              "std    8.6e+00   23.3    6.9  2.5e-01    0.1    0.7   28.1    2.1    8.7   \n",
              "min    6.3e-03    0.0    0.5  0.0e+00    0.4    3.6    2.9    1.1    1.0   \n",
              "25%    8.2e-02    0.0    5.2  0.0e+00    0.4    5.9   45.0    2.1    4.0   \n",
              "50%    2.6e-01    0.0    9.7  0.0e+00    0.5    6.2   77.5    3.2    5.0   \n",
              "75%    3.7e+00   12.5   18.1  0.0e+00    0.6    6.6   94.1    5.2   24.0   \n",
              "max    8.9e+01  100.0   27.7  1.0e+00    0.9    8.8  100.0   12.1   24.0   \n",
              "\n",
              "         TAX  PTRATIO      B  LSTAT   MEDV  \n",
              "count  506.0    506.0  506.0  506.0  506.0  \n",
              "mean   408.2     18.5  356.7   12.7   22.5  \n",
              "std    168.5      2.2   91.3    7.1    9.2  \n",
              "min    187.0     12.6    0.3    1.7    5.0  \n",
              "25%    279.0     17.4  375.4    6.9   17.0  \n",
              "50%    330.0     19.1  391.4   11.4   21.2  \n",
              "75%    666.0     20.2  396.2   17.0   25.0  \n",
              "max    711.0     22.0  396.9   38.0   50.0  "
            ],
            "text/html": [
              "\n",
              "  <div id=\"df-64414582-d02d-4b7c-a46b-143f54b2c10b\">\n",
              "    <div class=\"colab-df-container\">\n",
              "      <div>\n",
              "<style scoped>\n",
              "    .dataframe tbody tr th:only-of-type {\n",
              "        vertical-align: middle;\n",
              "    }\n",
              "\n",
              "    .dataframe tbody tr th {\n",
              "        vertical-align: top;\n",
              "    }\n",
              "\n",
              "    .dataframe thead th {\n",
              "        text-align: right;\n",
              "    }\n",
              "</style>\n",
              "<table border=\"1\" class=\"dataframe\">\n",
              "  <thead>\n",
              "    <tr style=\"text-align: right;\">\n",
              "      <th></th>\n",
              "      <th>CRIM</th>\n",
              "      <th>ZN</th>\n",
              "      <th>INDUS</th>\n",
              "      <th>CHAS</th>\n",
              "      <th>NOX</th>\n",
              "      <th>RM</th>\n",
              "      <th>AGE</th>\n",
              "      <th>DIS</th>\n",
              "      <th>RAD</th>\n",
              "      <th>TAX</th>\n",
              "      <th>PTRATIO</th>\n",
              "      <th>B</th>\n",
              "      <th>LSTAT</th>\n",
              "      <th>MEDV</th>\n",
              "    </tr>\n",
              "  </thead>\n",
              "  <tbody>\n",
              "    <tr>\n",
              "      <th>count</th>\n",
              "      <td>5.1e+02</td>\n",
              "      <td>506.0</td>\n",
              "      <td>506.0</td>\n",
              "      <td>5.1e+02</td>\n",
              "      <td>506.0</td>\n",
              "      <td>506.0</td>\n",
              "      <td>506.0</td>\n",
              "      <td>506.0</td>\n",
              "      <td>506.0</td>\n",
              "      <td>506.0</td>\n",
              "      <td>506.0</td>\n",
              "      <td>506.0</td>\n",
              "      <td>506.0</td>\n",
              "      <td>506.0</td>\n",
              "    </tr>\n",
              "    <tr>\n",
              "      <th>mean</th>\n",
              "      <td>3.6e+00</td>\n",
              "      <td>11.4</td>\n",
              "      <td>11.1</td>\n",
              "      <td>6.9e-02</td>\n",
              "      <td>0.6</td>\n",
              "      <td>6.3</td>\n",
              "      <td>68.6</td>\n",
              "      <td>3.8</td>\n",
              "      <td>9.5</td>\n",
              "      <td>408.2</td>\n",
              "      <td>18.5</td>\n",
              "      <td>356.7</td>\n",
              "      <td>12.7</td>\n",
              "      <td>22.5</td>\n",
              "    </tr>\n",
              "    <tr>\n",
              "      <th>std</th>\n",
              "      <td>8.6e+00</td>\n",
              "      <td>23.3</td>\n",
              "      <td>6.9</td>\n",
              "      <td>2.5e-01</td>\n",
              "      <td>0.1</td>\n",
              "      <td>0.7</td>\n",
              "      <td>28.1</td>\n",
              "      <td>2.1</td>\n",
              "      <td>8.7</td>\n",
              "      <td>168.5</td>\n",
              "      <td>2.2</td>\n",
              "      <td>91.3</td>\n",
              "      <td>7.1</td>\n",
              "      <td>9.2</td>\n",
              "    </tr>\n",
              "    <tr>\n",
              "      <th>min</th>\n",
              "      <td>6.3e-03</td>\n",
              "      <td>0.0</td>\n",
              "      <td>0.5</td>\n",
              "      <td>0.0e+00</td>\n",
              "      <td>0.4</td>\n",
              "      <td>3.6</td>\n",
              "      <td>2.9</td>\n",
              "      <td>1.1</td>\n",
              "      <td>1.0</td>\n",
              "      <td>187.0</td>\n",
              "      <td>12.6</td>\n",
              "      <td>0.3</td>\n",
              "      <td>1.7</td>\n",
              "      <td>5.0</td>\n",
              "    </tr>\n",
              "    <tr>\n",
              "      <th>25%</th>\n",
              "      <td>8.2e-02</td>\n",
              "      <td>0.0</td>\n",
              "      <td>5.2</td>\n",
              "      <td>0.0e+00</td>\n",
              "      <td>0.4</td>\n",
              "      <td>5.9</td>\n",
              "      <td>45.0</td>\n",
              "      <td>2.1</td>\n",
              "      <td>4.0</td>\n",
              "      <td>279.0</td>\n",
              "      <td>17.4</td>\n",
              "      <td>375.4</td>\n",
              "      <td>6.9</td>\n",
              "      <td>17.0</td>\n",
              "    </tr>\n",
              "    <tr>\n",
              "      <th>50%</th>\n",
              "      <td>2.6e-01</td>\n",
              "      <td>0.0</td>\n",
              "      <td>9.7</td>\n",
              "      <td>0.0e+00</td>\n",
              "      <td>0.5</td>\n",
              "      <td>6.2</td>\n",
              "      <td>77.5</td>\n",
              "      <td>3.2</td>\n",
              "      <td>5.0</td>\n",
              "      <td>330.0</td>\n",
              "      <td>19.1</td>\n",
              "      <td>391.4</td>\n",
              "      <td>11.4</td>\n",
              "      <td>21.2</td>\n",
              "    </tr>\n",
              "    <tr>\n",
              "      <th>75%</th>\n",
              "      <td>3.7e+00</td>\n",
              "      <td>12.5</td>\n",
              "      <td>18.1</td>\n",
              "      <td>0.0e+00</td>\n",
              "      <td>0.6</td>\n",
              "      <td>6.6</td>\n",
              "      <td>94.1</td>\n",
              "      <td>5.2</td>\n",
              "      <td>24.0</td>\n",
              "      <td>666.0</td>\n",
              "      <td>20.2</td>\n",
              "      <td>396.2</td>\n",
              "      <td>17.0</td>\n",
              "      <td>25.0</td>\n",
              "    </tr>\n",
              "    <tr>\n",
              "      <th>max</th>\n",
              "      <td>8.9e+01</td>\n",
              "      <td>100.0</td>\n",
              "      <td>27.7</td>\n",
              "      <td>1.0e+00</td>\n",
              "      <td>0.9</td>\n",
              "      <td>8.8</td>\n",
              "      <td>100.0</td>\n",
              "      <td>12.1</td>\n",
              "      <td>24.0</td>\n",
              "      <td>711.0</td>\n",
              "      <td>22.0</td>\n",
              "      <td>396.9</td>\n",
              "      <td>38.0</td>\n",
              "      <td>50.0</td>\n",
              "    </tr>\n",
              "  </tbody>\n",
              "</table>\n",
              "</div>\n",
              "      <button class=\"colab-df-convert\" onclick=\"convertToInteractive('df-64414582-d02d-4b7c-a46b-143f54b2c10b')\"\n",
              "              title=\"Convert this dataframe to an interactive table.\"\n",
              "              style=\"display:none;\">\n",
              "        \n",
              "  <svg xmlns=\"http://www.w3.org/2000/svg\" height=\"24px\"viewBox=\"0 0 24 24\"\n",
              "       width=\"24px\">\n",
              "    <path d=\"M0 0h24v24H0V0z\" fill=\"none\"/>\n",
              "    <path d=\"M18.56 5.44l.94 2.06.94-2.06 2.06-.94-2.06-.94-.94-2.06-.94 2.06-2.06.94zm-11 1L8.5 8.5l.94-2.06 2.06-.94-2.06-.94L8.5 2.5l-.94 2.06-2.06.94zm10 10l.94 2.06.94-2.06 2.06-.94-2.06-.94-.94-2.06-.94 2.06-2.06.94z\"/><path d=\"M17.41 7.96l-1.37-1.37c-.4-.4-.92-.59-1.43-.59-.52 0-1.04.2-1.43.59L10.3 9.45l-7.72 7.72c-.78.78-.78 2.05 0 2.83L4 21.41c.39.39.9.59 1.41.59.51 0 1.02-.2 1.41-.59l7.78-7.78 2.81-2.81c.8-.78.8-2.07 0-2.86zM5.41 20L4 18.59l7.72-7.72 1.47 1.35L5.41 20z\"/>\n",
              "  </svg>\n",
              "      </button>\n",
              "      \n",
              "  <style>\n",
              "    .colab-df-container {\n",
              "      display:flex;\n",
              "      flex-wrap:wrap;\n",
              "      gap: 12px;\n",
              "    }\n",
              "\n",
              "    .colab-df-convert {\n",
              "      background-color: #E8F0FE;\n",
              "      border: none;\n",
              "      border-radius: 50%;\n",
              "      cursor: pointer;\n",
              "      display: none;\n",
              "      fill: #1967D2;\n",
              "      height: 32px;\n",
              "      padding: 0 0 0 0;\n",
              "      width: 32px;\n",
              "    }\n",
              "\n",
              "    .colab-df-convert:hover {\n",
              "      background-color: #E2EBFA;\n",
              "      box-shadow: 0px 1px 2px rgba(60, 64, 67, 0.3), 0px 1px 3px 1px rgba(60, 64, 67, 0.15);\n",
              "      fill: #174EA6;\n",
              "    }\n",
              "\n",
              "    [theme=dark] .colab-df-convert {\n",
              "      background-color: #3B4455;\n",
              "      fill: #D2E3FC;\n",
              "    }\n",
              "\n",
              "    [theme=dark] .colab-df-convert:hover {\n",
              "      background-color: #434B5C;\n",
              "      box-shadow: 0px 1px 3px 1px rgba(0, 0, 0, 0.15);\n",
              "      filter: drop-shadow(0px 1px 2px rgba(0, 0, 0, 0.3));\n",
              "      fill: #FFFFFF;\n",
              "    }\n",
              "  </style>\n",
              "\n",
              "      <script>\n",
              "        const buttonEl =\n",
              "          document.querySelector('#df-64414582-d02d-4b7c-a46b-143f54b2c10b button.colab-df-convert');\n",
              "        buttonEl.style.display =\n",
              "          google.colab.kernel.accessAllowed ? 'block' : 'none';\n",
              "\n",
              "        async function convertToInteractive(key) {\n",
              "          const element = document.querySelector('#df-64414582-d02d-4b7c-a46b-143f54b2c10b');\n",
              "          const dataTable =\n",
              "            await google.colab.kernel.invokeFunction('convertToInteractive',\n",
              "                                                     [key], {});\n",
              "          if (!dataTable) return;\n",
              "\n",
              "          const docLinkHtml = 'Like what you see? Visit the ' +\n",
              "            '<a target=\"_blank\" href=https://colab.research.google.com/notebooks/data_table.ipynb>data table notebook</a>'\n",
              "            + ' to learn more about interactive tables.';\n",
              "          element.innerHTML = '';\n",
              "          dataTable['output_type'] = 'display_data';\n",
              "          await google.colab.output.renderOutput(dataTable, element);\n",
              "          const docLink = document.createElement('div');\n",
              "          docLink.innerHTML = docLinkHtml;\n",
              "          element.appendChild(docLink);\n",
              "        }\n",
              "      </script>\n",
              "    </div>\n",
              "  </div>\n",
              "  "
            ]
          },
          "metadata": {},
          "execution_count": 40
        }
      ]
    },
    {
      "cell_type": "code",
      "source": [
        "#mostra a correlação entre os atributos\n",
        "set_option('precision', 2) #precisão de duas casas decimais após a vírgula\n",
        "#métodos podem ser: pearson, spearman ou kendall\n",
        "correlations = data.corr(method = 'pearson')\n",
        "correlations"
      ],
      "metadata": {
        "colab": {
          "base_uri": "https://localhost:8080/",
          "height": 488
        },
        "id": "m6C7pE53IucG",
        "outputId": "1dc11eda-56da-420d-b8cf-a156d9d3da61"
      },
      "execution_count": 41,
      "outputs": [
        {
          "output_type": "execute_result",
          "data": {
            "text/plain": [
              "         CRIM    ZN  INDUS      CHAS   NOX    RM   AGE   DIS       RAD   TAX  \\\n",
              "CRIM     1.00 -0.20   0.41 -5.59e-02  0.42 -0.22  0.35 -0.38  6.26e-01  0.58   \n",
              "ZN      -0.20  1.00  -0.53 -4.27e-02 -0.52  0.31 -0.57  0.66 -3.12e-01 -0.31   \n",
              "INDUS    0.41 -0.53   1.00  6.29e-02  0.76 -0.39  0.64 -0.71  5.95e-01  0.72   \n",
              "CHAS    -0.06 -0.04   0.06  1.00e+00  0.09  0.09  0.09 -0.10 -7.37e-03 -0.04   \n",
              "NOX      0.42 -0.52   0.76  9.12e-02  1.00 -0.30  0.73 -0.77  6.11e-01  0.67   \n",
              "RM      -0.22  0.31  -0.39  9.13e-02 -0.30  1.00 -0.24  0.21 -2.10e-01 -0.29   \n",
              "AGE      0.35 -0.57   0.64  8.65e-02  0.73 -0.24  1.00 -0.75  4.56e-01  0.51   \n",
              "DIS     -0.38  0.66  -0.71 -9.92e-02 -0.77  0.21 -0.75  1.00 -4.95e-01 -0.53   \n",
              "RAD      0.63 -0.31   0.60 -7.37e-03  0.61 -0.21  0.46 -0.49  1.00e+00  0.91   \n",
              "TAX      0.58 -0.31   0.72 -3.56e-02  0.67 -0.29  0.51 -0.53  9.10e-01  1.00   \n",
              "PTRATIO  0.29 -0.39   0.38 -1.22e-01  0.19 -0.36  0.26 -0.23  4.65e-01  0.46   \n",
              "B       -0.39  0.18  -0.36  4.88e-02 -0.38  0.13 -0.27  0.29 -4.44e-01 -0.44   \n",
              "LSTAT    0.46 -0.41   0.60 -5.39e-02  0.59 -0.61  0.60 -0.50  4.89e-01  0.54   \n",
              "MEDV    -0.39  0.36  -0.48  1.75e-01 -0.43  0.70 -0.38  0.25 -3.82e-01 -0.47   \n",
              "\n",
              "         PTRATIO     B  LSTAT  MEDV  \n",
              "CRIM        0.29 -0.39   0.46 -0.39  \n",
              "ZN         -0.39  0.18  -0.41  0.36  \n",
              "INDUS       0.38 -0.36   0.60 -0.48  \n",
              "CHAS       -0.12  0.05  -0.05  0.18  \n",
              "NOX         0.19 -0.38   0.59 -0.43  \n",
              "RM         -0.36  0.13  -0.61  0.70  \n",
              "AGE         0.26 -0.27   0.60 -0.38  \n",
              "DIS        -0.23  0.29  -0.50  0.25  \n",
              "RAD         0.46 -0.44   0.49 -0.38  \n",
              "TAX         0.46 -0.44   0.54 -0.47  \n",
              "PTRATIO     1.00 -0.18   0.37 -0.51  \n",
              "B          -0.18  1.00  -0.37  0.33  \n",
              "LSTAT       0.37 -0.37   1.00 -0.74  \n",
              "MEDV       -0.51  0.33  -0.74  1.00  "
            ],
            "text/html": [
              "\n",
              "  <div id=\"df-c5ba94e5-e355-4891-a161-e063f65848cb\">\n",
              "    <div class=\"colab-df-container\">\n",
              "      <div>\n",
              "<style scoped>\n",
              "    .dataframe tbody tr th:only-of-type {\n",
              "        vertical-align: middle;\n",
              "    }\n",
              "\n",
              "    .dataframe tbody tr th {\n",
              "        vertical-align: top;\n",
              "    }\n",
              "\n",
              "    .dataframe thead th {\n",
              "        text-align: right;\n",
              "    }\n",
              "</style>\n",
              "<table border=\"1\" class=\"dataframe\">\n",
              "  <thead>\n",
              "    <tr style=\"text-align: right;\">\n",
              "      <th></th>\n",
              "      <th>CRIM</th>\n",
              "      <th>ZN</th>\n",
              "      <th>INDUS</th>\n",
              "      <th>CHAS</th>\n",
              "      <th>NOX</th>\n",
              "      <th>RM</th>\n",
              "      <th>AGE</th>\n",
              "      <th>DIS</th>\n",
              "      <th>RAD</th>\n",
              "      <th>TAX</th>\n",
              "      <th>PTRATIO</th>\n",
              "      <th>B</th>\n",
              "      <th>LSTAT</th>\n",
              "      <th>MEDV</th>\n",
              "    </tr>\n",
              "  </thead>\n",
              "  <tbody>\n",
              "    <tr>\n",
              "      <th>CRIM</th>\n",
              "      <td>1.00</td>\n",
              "      <td>-0.20</td>\n",
              "      <td>0.41</td>\n",
              "      <td>-5.59e-02</td>\n",
              "      <td>0.42</td>\n",
              "      <td>-0.22</td>\n",
              "      <td>0.35</td>\n",
              "      <td>-0.38</td>\n",
              "      <td>6.26e-01</td>\n",
              "      <td>0.58</td>\n",
              "      <td>0.29</td>\n",
              "      <td>-0.39</td>\n",
              "      <td>0.46</td>\n",
              "      <td>-0.39</td>\n",
              "    </tr>\n",
              "    <tr>\n",
              "      <th>ZN</th>\n",
              "      <td>-0.20</td>\n",
              "      <td>1.00</td>\n",
              "      <td>-0.53</td>\n",
              "      <td>-4.27e-02</td>\n",
              "      <td>-0.52</td>\n",
              "      <td>0.31</td>\n",
              "      <td>-0.57</td>\n",
              "      <td>0.66</td>\n",
              "      <td>-3.12e-01</td>\n",
              "      <td>-0.31</td>\n",
              "      <td>-0.39</td>\n",
              "      <td>0.18</td>\n",
              "      <td>-0.41</td>\n",
              "      <td>0.36</td>\n",
              "    </tr>\n",
              "    <tr>\n",
              "      <th>INDUS</th>\n",
              "      <td>0.41</td>\n",
              "      <td>-0.53</td>\n",
              "      <td>1.00</td>\n",
              "      <td>6.29e-02</td>\n",
              "      <td>0.76</td>\n",
              "      <td>-0.39</td>\n",
              "      <td>0.64</td>\n",
              "      <td>-0.71</td>\n",
              "      <td>5.95e-01</td>\n",
              "      <td>0.72</td>\n",
              "      <td>0.38</td>\n",
              "      <td>-0.36</td>\n",
              "      <td>0.60</td>\n",
              "      <td>-0.48</td>\n",
              "    </tr>\n",
              "    <tr>\n",
              "      <th>CHAS</th>\n",
              "      <td>-0.06</td>\n",
              "      <td>-0.04</td>\n",
              "      <td>0.06</td>\n",
              "      <td>1.00e+00</td>\n",
              "      <td>0.09</td>\n",
              "      <td>0.09</td>\n",
              "      <td>0.09</td>\n",
              "      <td>-0.10</td>\n",
              "      <td>-7.37e-03</td>\n",
              "      <td>-0.04</td>\n",
              "      <td>-0.12</td>\n",
              "      <td>0.05</td>\n",
              "      <td>-0.05</td>\n",
              "      <td>0.18</td>\n",
              "    </tr>\n",
              "    <tr>\n",
              "      <th>NOX</th>\n",
              "      <td>0.42</td>\n",
              "      <td>-0.52</td>\n",
              "      <td>0.76</td>\n",
              "      <td>9.12e-02</td>\n",
              "      <td>1.00</td>\n",
              "      <td>-0.30</td>\n",
              "      <td>0.73</td>\n",
              "      <td>-0.77</td>\n",
              "      <td>6.11e-01</td>\n",
              "      <td>0.67</td>\n",
              "      <td>0.19</td>\n",
              "      <td>-0.38</td>\n",
              "      <td>0.59</td>\n",
              "      <td>-0.43</td>\n",
              "    </tr>\n",
              "    <tr>\n",
              "      <th>RM</th>\n",
              "      <td>-0.22</td>\n",
              "      <td>0.31</td>\n",
              "      <td>-0.39</td>\n",
              "      <td>9.13e-02</td>\n",
              "      <td>-0.30</td>\n",
              "      <td>1.00</td>\n",
              "      <td>-0.24</td>\n",
              "      <td>0.21</td>\n",
              "      <td>-2.10e-01</td>\n",
              "      <td>-0.29</td>\n",
              "      <td>-0.36</td>\n",
              "      <td>0.13</td>\n",
              "      <td>-0.61</td>\n",
              "      <td>0.70</td>\n",
              "    </tr>\n",
              "    <tr>\n",
              "      <th>AGE</th>\n",
              "      <td>0.35</td>\n",
              "      <td>-0.57</td>\n",
              "      <td>0.64</td>\n",
              "      <td>8.65e-02</td>\n",
              "      <td>0.73</td>\n",
              "      <td>-0.24</td>\n",
              "      <td>1.00</td>\n",
              "      <td>-0.75</td>\n",
              "      <td>4.56e-01</td>\n",
              "      <td>0.51</td>\n",
              "      <td>0.26</td>\n",
              "      <td>-0.27</td>\n",
              "      <td>0.60</td>\n",
              "      <td>-0.38</td>\n",
              "    </tr>\n",
              "    <tr>\n",
              "      <th>DIS</th>\n",
              "      <td>-0.38</td>\n",
              "      <td>0.66</td>\n",
              "      <td>-0.71</td>\n",
              "      <td>-9.92e-02</td>\n",
              "      <td>-0.77</td>\n",
              "      <td>0.21</td>\n",
              "      <td>-0.75</td>\n",
              "      <td>1.00</td>\n",
              "      <td>-4.95e-01</td>\n",
              "      <td>-0.53</td>\n",
              "      <td>-0.23</td>\n",
              "      <td>0.29</td>\n",
              "      <td>-0.50</td>\n",
              "      <td>0.25</td>\n",
              "    </tr>\n",
              "    <tr>\n",
              "      <th>RAD</th>\n",
              "      <td>0.63</td>\n",
              "      <td>-0.31</td>\n",
              "      <td>0.60</td>\n",
              "      <td>-7.37e-03</td>\n",
              "      <td>0.61</td>\n",
              "      <td>-0.21</td>\n",
              "      <td>0.46</td>\n",
              "      <td>-0.49</td>\n",
              "      <td>1.00e+00</td>\n",
              "      <td>0.91</td>\n",
              "      <td>0.46</td>\n",
              "      <td>-0.44</td>\n",
              "      <td>0.49</td>\n",
              "      <td>-0.38</td>\n",
              "    </tr>\n",
              "    <tr>\n",
              "      <th>TAX</th>\n",
              "      <td>0.58</td>\n",
              "      <td>-0.31</td>\n",
              "      <td>0.72</td>\n",
              "      <td>-3.56e-02</td>\n",
              "      <td>0.67</td>\n",
              "      <td>-0.29</td>\n",
              "      <td>0.51</td>\n",
              "      <td>-0.53</td>\n",
              "      <td>9.10e-01</td>\n",
              "      <td>1.00</td>\n",
              "      <td>0.46</td>\n",
              "      <td>-0.44</td>\n",
              "      <td>0.54</td>\n",
              "      <td>-0.47</td>\n",
              "    </tr>\n",
              "    <tr>\n",
              "      <th>PTRATIO</th>\n",
              "      <td>0.29</td>\n",
              "      <td>-0.39</td>\n",
              "      <td>0.38</td>\n",
              "      <td>-1.22e-01</td>\n",
              "      <td>0.19</td>\n",
              "      <td>-0.36</td>\n",
              "      <td>0.26</td>\n",
              "      <td>-0.23</td>\n",
              "      <td>4.65e-01</td>\n",
              "      <td>0.46</td>\n",
              "      <td>1.00</td>\n",
              "      <td>-0.18</td>\n",
              "      <td>0.37</td>\n",
              "      <td>-0.51</td>\n",
              "    </tr>\n",
              "    <tr>\n",
              "      <th>B</th>\n",
              "      <td>-0.39</td>\n",
              "      <td>0.18</td>\n",
              "      <td>-0.36</td>\n",
              "      <td>4.88e-02</td>\n",
              "      <td>-0.38</td>\n",
              "      <td>0.13</td>\n",
              "      <td>-0.27</td>\n",
              "      <td>0.29</td>\n",
              "      <td>-4.44e-01</td>\n",
              "      <td>-0.44</td>\n",
              "      <td>-0.18</td>\n",
              "      <td>1.00</td>\n",
              "      <td>-0.37</td>\n",
              "      <td>0.33</td>\n",
              "    </tr>\n",
              "    <tr>\n",
              "      <th>LSTAT</th>\n",
              "      <td>0.46</td>\n",
              "      <td>-0.41</td>\n",
              "      <td>0.60</td>\n",
              "      <td>-5.39e-02</td>\n",
              "      <td>0.59</td>\n",
              "      <td>-0.61</td>\n",
              "      <td>0.60</td>\n",
              "      <td>-0.50</td>\n",
              "      <td>4.89e-01</td>\n",
              "      <td>0.54</td>\n",
              "      <td>0.37</td>\n",
              "      <td>-0.37</td>\n",
              "      <td>1.00</td>\n",
              "      <td>-0.74</td>\n",
              "    </tr>\n",
              "    <tr>\n",
              "      <th>MEDV</th>\n",
              "      <td>-0.39</td>\n",
              "      <td>0.36</td>\n",
              "      <td>-0.48</td>\n",
              "      <td>1.75e-01</td>\n",
              "      <td>-0.43</td>\n",
              "      <td>0.70</td>\n",
              "      <td>-0.38</td>\n",
              "      <td>0.25</td>\n",
              "      <td>-3.82e-01</td>\n",
              "      <td>-0.47</td>\n",
              "      <td>-0.51</td>\n",
              "      <td>0.33</td>\n",
              "      <td>-0.74</td>\n",
              "      <td>1.00</td>\n",
              "    </tr>\n",
              "  </tbody>\n",
              "</table>\n",
              "</div>\n",
              "      <button class=\"colab-df-convert\" onclick=\"convertToInteractive('df-c5ba94e5-e355-4891-a161-e063f65848cb')\"\n",
              "              title=\"Convert this dataframe to an interactive table.\"\n",
              "              style=\"display:none;\">\n",
              "        \n",
              "  <svg xmlns=\"http://www.w3.org/2000/svg\" height=\"24px\"viewBox=\"0 0 24 24\"\n",
              "       width=\"24px\">\n",
              "    <path d=\"M0 0h24v24H0V0z\" fill=\"none\"/>\n",
              "    <path d=\"M18.56 5.44l.94 2.06.94-2.06 2.06-.94-2.06-.94-.94-2.06-.94 2.06-2.06.94zm-11 1L8.5 8.5l.94-2.06 2.06-.94-2.06-.94L8.5 2.5l-.94 2.06-2.06.94zm10 10l.94 2.06.94-2.06 2.06-.94-2.06-.94-.94-2.06-.94 2.06-2.06.94z\"/><path d=\"M17.41 7.96l-1.37-1.37c-.4-.4-.92-.59-1.43-.59-.52 0-1.04.2-1.43.59L10.3 9.45l-7.72 7.72c-.78.78-.78 2.05 0 2.83L4 21.41c.39.39.9.59 1.41.59.51 0 1.02-.2 1.41-.59l7.78-7.78 2.81-2.81c.8-.78.8-2.07 0-2.86zM5.41 20L4 18.59l7.72-7.72 1.47 1.35L5.41 20z\"/>\n",
              "  </svg>\n",
              "      </button>\n",
              "      \n",
              "  <style>\n",
              "    .colab-df-container {\n",
              "      display:flex;\n",
              "      flex-wrap:wrap;\n",
              "      gap: 12px;\n",
              "    }\n",
              "\n",
              "    .colab-df-convert {\n",
              "      background-color: #E8F0FE;\n",
              "      border: none;\n",
              "      border-radius: 50%;\n",
              "      cursor: pointer;\n",
              "      display: none;\n",
              "      fill: #1967D2;\n",
              "      height: 32px;\n",
              "      padding: 0 0 0 0;\n",
              "      width: 32px;\n",
              "    }\n",
              "\n",
              "    .colab-df-convert:hover {\n",
              "      background-color: #E2EBFA;\n",
              "      box-shadow: 0px 1px 2px rgba(60, 64, 67, 0.3), 0px 1px 3px 1px rgba(60, 64, 67, 0.15);\n",
              "      fill: #174EA6;\n",
              "    }\n",
              "\n",
              "    [theme=dark] .colab-df-convert {\n",
              "      background-color: #3B4455;\n",
              "      fill: #D2E3FC;\n",
              "    }\n",
              "\n",
              "    [theme=dark] .colab-df-convert:hover {\n",
              "      background-color: #434B5C;\n",
              "      box-shadow: 0px 1px 3px 1px rgba(0, 0, 0, 0.15);\n",
              "      filter: drop-shadow(0px 1px 2px rgba(0, 0, 0, 0.3));\n",
              "      fill: #FFFFFF;\n",
              "    }\n",
              "  </style>\n",
              "\n",
              "      <script>\n",
              "        const buttonEl =\n",
              "          document.querySelector('#df-c5ba94e5-e355-4891-a161-e063f65848cb button.colab-df-convert');\n",
              "        buttonEl.style.display =\n",
              "          google.colab.kernel.accessAllowed ? 'block' : 'none';\n",
              "\n",
              "        async function convertToInteractive(key) {\n",
              "          const element = document.querySelector('#df-c5ba94e5-e355-4891-a161-e063f65848cb');\n",
              "          const dataTable =\n",
              "            await google.colab.kernel.invokeFunction('convertToInteractive',\n",
              "                                                     [key], {});\n",
              "          if (!dataTable) return;\n",
              "\n",
              "          const docLinkHtml = 'Like what you see? Visit the ' +\n",
              "            '<a target=\"_blank\" href=https://colab.research.google.com/notebooks/data_table.ipynb>data table notebook</a>'\n",
              "            + ' to learn more about interactive tables.';\n",
              "          element.innerHTML = '';\n",
              "          dataTable['output_type'] = 'display_data';\n",
              "          await google.colab.output.renderOutput(dataTable, element);\n",
              "          const docLink = document.createElement('div');\n",
              "          docLink.innerHTML = docLinkHtml;\n",
              "          element.appendChild(docLink);\n",
              "        }\n",
              "      </script>\n",
              "    </div>\n",
              "  </div>\n",
              "  "
            ]
          },
          "metadata": {},
          "execution_count": 41
        }
      ]
    },
    {
      "cell_type": "code",
      "source": [
        "#mostra a distorção (obliquidade) das distribuições univariadas\n",
        "skew = data.skew(numeric_only=True)\n",
        "skew"
      ],
      "metadata": {
        "colab": {
          "base_uri": "https://localhost:8080/"
        },
        "id": "CEQpT7B1JNnT",
        "outputId": "8290493f-0030-4491-c713-f545c0912e67"
      },
      "execution_count": 42,
      "outputs": [
        {
          "output_type": "execute_result",
          "data": {
            "text/plain": [
              "CRIM       5.22\n",
              "ZN         2.23\n",
              "INDUS      0.30\n",
              "CHAS       3.41\n",
              "NOX        0.73\n",
              "RM         0.40\n",
              "AGE       -0.60\n",
              "DIS        1.01\n",
              "RAD        1.00\n",
              "TAX        0.67\n",
              "PTRATIO   -0.80\n",
              "B         -2.89\n",
              "LSTAT      0.91\n",
              "MEDV       1.11\n",
              "dtype: float64"
            ]
          },
          "metadata": {},
          "execution_count": 42
        }
      ]
    },
    {
      "cell_type": "markdown",
      "source": [
        "## 2.3 Visualizar Dados"
      ],
      "metadata": {
        "id": "GMzLnmDU8coc"
      }
    },
    {
      "cell_type": "markdown",
      "source": [
        "### 2.3.1 Gráficos Univariados"
      ],
      "metadata": {
        "id": "eU35sYt_KayC"
      }
    },
    {
      "cell_type": "markdown",
      "source": [
        "#### 2.3.1.1 Histograma"
      ],
      "metadata": {
        "id": "HtNYlzkiKh0l"
      }
    },
    {
      "cell_type": "code",
      "source": [
        "data.hist(sharex=False, sharey=False, xlabelsize=1, ylabelsize=1)\n",
        "pyplot.show()"
      ],
      "metadata": {
        "colab": {
          "base_uri": "https://localhost:8080/",
          "height": 272
        },
        "id": "tbXJ_VgCKmRW",
        "outputId": "15f96aa1-4bd9-4a65-da18-bba36ad3f9c4"
      },
      "execution_count": 43,
      "outputs": [
        {
          "output_type": "display_data",
          "data": {
            "text/plain": [
              "<Figure size 432x288 with 16 Axes>"
            ],
            "image/png": "[encoded data removed]"
          },
          "metadata": {
            "needs_background": "light"
          }
        }
      ]
    },
    {
      "cell_type": "markdown",
      "source": [
        "#### 2.3.1.2 Gráficos de Densidade"
      ],
      "metadata": {
        "id": "VQ2u6GHOK2ex"
      }
    },
    {
      "cell_type": "code",
      "source": [
        "#gráficos de densidade\n",
        "#atenção ao layout para caberem todos os gráficos (x * y >= n° de atributos)\n",
        "data.plot(kind='density', subplots=True, layout=(4,4), sharex=False, sharey=False, legend=False, fontsize=2)\n",
        "pyplot.show()"
      ],
      "metadata": {
        "colab": {
          "base_uri": "https://localhost:8080/",
          "height": 256
        },
        "id": "CFq05ZSRK7F1",
        "outputId": "456d013c-f4a4-4f63-8cfa-d48eaba0fe91"
      },
      "execution_count": 44,
      "outputs": [
        {
          "output_type": "display_data",
          "data": {
            "text/plain": [
              "<Figure size 432x288 with 16 Axes>"
            ],
            "image/png": "[encoded data removed]"
          },
          "metadata": {
            "needs_background": "light"
          }
        }
      ]
    },
    {
      "cell_type": "markdown",
      "source": [
        "#### 2.3.1.3 Box Plot"
      ],
      "metadata": {
        "id": "QveZ7o6jLfbf"
      }
    },
    {
      "cell_type": "code",
      "source": [
        "#box plot\n",
        "#atenção ao layout para caberem todos os gráficos (x * y >= n° de atributos)\n",
        "data.plot(kind='box', subplots=True, layout=(4,4), sharex=False, sharey=False, fontsize=8)\n",
        "pyplot.show()"
      ],
      "metadata": {
        "colab": {
          "base_uri": "https://localhost:8080/",
          "height": 266
        },
        "id": "Rf61CicALjFE",
        "outputId": "36c02859-a7b5-4a68-82a4-cd228cfde3fa"
      },
      "execution_count": 45,
      "outputs": [
        {
          "output_type": "display_data",
          "data": {
            "text/plain": [
              "<Figure size 432x288 with 16 Axes>"
            ],
            "image/png": "[encoded data removed]"
          },
          "metadata": {
            "needs_background": "light"
          }
        }
      ]
    },
    {
      "cell_type": "markdown",
      "source": [
        "### 2.3.2 Gráficos Multivariados"
      ],
      "metadata": {
        "id": "G1qSMOoCL4oj"
      }
    },
    {
      "cell_type": "markdown",
      "source": [
        "#### 2.3.2.1 Matriz de Correlação"
      ],
      "metadata": {
        "id": "MpF20bDIL-tk"
      }
    },
    {
      "cell_type": "code",
      "source": [
        "#matriz de correlação\n",
        "#corr = 1 atributos diretamente correlacionados\n",
        "#corr = 0 atributos não relacionados\n",
        "#corr = -1 atributos inversamente correlacionados\n",
        "fig = pyplot.figure()\n",
        "ax = fig.add_subplot(111)\n",
        "cax = ax.matshow(correlations, vmin=-1, vmax=1, interpolation='none')\n",
        "fig.colorbar(cax)\n",
        "ticks = numpy.arange(0,14,1)\n",
        "ax.set_xticks(ticks)\n",
        "ax.set_yticks(ticks)\n",
        "ax.set_xticklabels(columns)\n",
        "ax.set_yticklabels(columns)\n",
        "pyplot.show()"
      ],
      "metadata": {
        "colab": {
          "base_uri": "https://localhost:8080/",
          "height": 271
        },
        "id": "-4HX8kRXMIEU",
        "outputId": "de752401-38c8-4441-92ec-da13f20dd8cb"
      },
      "execution_count": 46,
      "outputs": [
        {
          "output_type": "display_data",
          "data": {
            "text/plain": [
              "<Figure size 432x288 with 2 Axes>"
            ],
            "image/png": "[encoded data removed]"
          },
          "metadata": {
            "needs_background": "light"
          }
        }
      ]
    },
    {
      "cell_type": "markdown",
      "source": [
        "#### 2.3.2.2 Scatter Plot"
      ],
      "metadata": {
        "id": "3fgG00GtOoCU"
      }
    },
    {
      "cell_type": "code",
      "source": [
        "scatter_matrix(data)\n",
        "pyplot.show()"
      ],
      "metadata": {
        "colab": {
          "base_uri": "https://localhost:8080/",
          "height": 292
        },
        "id": "4tSgzEvNOtI7",
        "outputId": "7d7efedb-5dca-4d3a-f645-82dbec01baaa"
      },
      "execution_count": 47,
      "outputs": [
        {
          "output_type": "display_data",
          "data": {
            "text/plain": [
              "<Figure size 432x288 with 196 Axes>"
            ],
            "image/png": "[encoded data removed]"
          },
          "metadata": {
            "needs_background": "light"
          }
        }
      ]
    },
    {
      "cell_type": "markdown",
      "source": [
        "## 2.4 Preparar Dados"
      ],
      "metadata": {
        "id": "r6NsoumR7rNk"
      }
    },
    {
      "cell_type": "markdown",
      "source": [
        "O conjunto de dados não apresenta valores faltantes nem redundantes. Entretanto, os atributos estão em diversas escalas. Para corrigir isso iremos padronizar os dados."
      ],
      "metadata": {
        "id": "q1FZFDVCPRPp"
      }
    },
    {
      "cell_type": "markdown",
      "source": [
        "### 2.4.1 Padronizar Dados"
      ],
      "metadata": {
        "id": "5odH8NZtf72t"
      }
    },
    {
      "cell_type": "code",
      "source": [
        "#dispõe os dados em forma de array\n",
        "array = data.values\n",
        "\n",
        "#fatia os dados em um conjunto de inputs X e outro de output y\n",
        "X = array[ : , 0:13]\n",
        "y = array[ : , 13]\n",
        "\n",
        "#padroniza os dados (fit and transform)\n",
        "scaler = StandardScaler().fit(X)\n",
        "X = scaler.transform(X)\n",
        "\n",
        "#imprime os dados padronizados\n",
        "set_printoptions(precision=3) #precisão de três casas decimais após a vírgula\n",
        "print(X[ : , 0:13])"
      ],
      "metadata": {
        "id": "pEwmggsVCvLs",
        "colab": {
          "base_uri": "https://localhost:8080/"
        },
        "outputId": "911ddaa8-168e-4e97-d5f8-8fd80850acaa"
      },
      "execution_count": 48,
      "outputs": [
        {
          "output_type": "stream",
          "name": "stdout",
          "text": [
            "[[-0.42   0.285 -1.288 ... -1.459  0.441 -1.076]\n",
            " [-0.417 -0.488 -0.593 ... -0.303  0.441 -0.492]\n",
            " [-0.417 -0.488 -0.593 ... -0.303  0.396 -1.209]\n",
            " ...\n",
            " [-0.413 -0.488  0.116 ...  1.176  0.441 -0.983]\n",
            " [-0.408 -0.488  0.116 ...  1.176  0.403 -0.865]\n",
            " [-0.415 -0.488  0.116 ...  1.176  0.441 -0.669]]\n"
          ]
        }
      ]
    },
    {
      "cell_type": "markdown",
      "source": [
        "---  \n",
        "**Notas:**  \n",
        "`X = array[ : , 0:13]` trata-se de um fatiamento (slice) no formato `[start, stop]`.  \n",
        "Nesse caso, `start = : ` significa `start` da primeira à última linha e  \n",
        "`stop = 0:13` significa `stop`da primeira à décima terceira coluna, ou melhor dizendo, da coluna de índice 0 à coluna de índice 13.  \n",
        "Não podemos nos esquecer que no caso do Python os intervalos geralmente são [fechados, abertos[.  \n",
        "\n",
        "https://docs.python.org/3/tutorial/introduction.html#lists  \n",
        "\n",
        "`StandardScaler()`"
      ],
      "metadata": {
        "id": "oJQABa8tW9Qv"
      }
    },
    {
      "cell_type": "markdown",
      "source": [
        "### 2.4.2 Reduzir Dados"
      ],
      "metadata": {
        "id": "UjnsGg8erVg9"
      }
    },
    {
      "cell_type": "markdown",
      "source": [
        "### 2.4.3 Fatiar Dados\n",
        "Separa um conjunto de dados para o treinamento e um outro conjunto de dados para os testes."
      ],
      "metadata": {
        "id": "pGN4nTqn-1kx"
      }
    },
    {
      "cell_type": "code",
      "source": [
        "#From documentation: split array or matrix into random train and test subsets\n",
        "X_train, X_test, y_train, y_test = train_test_split(X, y, test_size=test_size, random_state=seed)"
      ],
      "metadata": {
        "id": "7vx0aMLeiA1f"
      },
      "execution_count": 49,
      "outputs": []
    },
    {
      "cell_type": "markdown",
      "source": [
        "---\n",
        "**Nota:**  \n",
        "`train_test_split`: https://scikit-learn.org/stable/modules/generated/sklearn.model_selection.train_test_split.html"
      ],
      "metadata": {
        "id": "NxvQ351nhnyo"
      }
    },
    {
      "cell_type": "markdown",
      "source": [
        "#3. Algoritmos\n",
        "---"
      ],
      "metadata": {
        "id": "xdYFNPiu8upe"
      }
    },
    {
      "cell_type": "markdown",
      "source": [
        "## 3.1 Avaliar Algoritmos"
      ],
      "metadata": {
        "id": "KemQwujur4fg"
      }
    },
    {
      "cell_type": "markdown",
      "source": [
        "### 3.1.1 Selecionar Algoritmos"
      ],
      "metadata": {
        "id": "ElEPb0hvCB-D"
      }
    },
    {
      "cell_type": "code",
      "source": [
        "#seleção de algoritmos\n",
        "models = []\n",
        "models.append(('LR', LinearRegression()))\n",
        "models.append(('LASSO', Lasso()))\n",
        "models.append(('EN', ElasticNet()))\n",
        "models.append(('KNN', KNeighborsRegressor()))\n",
        "models.append(('CART', DecisionTreeRegressor()))\n",
        "models.append(('SVR', SVR()))"
      ],
      "metadata": {
        "id": "JJXZfFWrrxz6"
      },
      "execution_count": 50,
      "outputs": []
    },
    {
      "cell_type": "markdown",
      "source": [
        "---\n",
        "**Nota:**  \n",
        "Por que selecionamos esses algoritmos?"
      ],
      "metadata": {
        "id": "1fUBwKkpmDY8"
      }
    },
    {
      "cell_type": "markdown",
      "source": [
        "### 3.1.2 Comparar Algoritmos"
      ],
      "metadata": {
        "id": "lPBv6fxfxCgA"
      }
    },
    {
      "cell_type": "code",
      "source": [
        "#lista dos nomes dos algoritmos\n",
        "names = []\n",
        "#lista dos resultados dos algoritmos\n",
        "results = []\n",
        "\n",
        "print(f\" {'Algoritmo'} | {'Média':<8} | {'Desvio'}\")\n",
        "print(32 * '-')\n",
        "\n",
        "for name, model in models:\n",
        "  kfold = KFold(n_splits=num_folds, random_state=seed, shuffle=True)\n",
        "  cv_results = cross_val_score(model, X_train, y_train, cv=kfold, scoring=scoring)\n",
        "\n",
        "  #imprimir nome do algoritmo, média e desvio padrão\n",
        "  msg = f\" {name:<9} | {cv_results.mean():.4f} | {cv_results.std():.4f}\"\n",
        "  print(msg)\n",
        "  print(32 * '-')\n",
        "\n",
        "  #insere nome do algoritmo na lista names \n",
        "  names.append(name)\n",
        "  #insere resultado do algoritmo na lista results\n",
        "  results.append(cv_results)"
      ],
      "metadata": {
        "colab": {
          "base_uri": "https://localhost:8080/"
        },
        "id": "ZP9NL6hLhXNX",
        "outputId": "c11fbe71-e0ad-47e0-835c-a11a3ad048bc"
      },
      "execution_count": 51,
      "outputs": [
        {
          "output_type": "stream",
          "name": "stdout",
          "text": [
            " Algoritmo | Média    | Desvio\n",
            "--------------------------------\n",
            " LR        | -22.0060 | 12.1889\n",
            "--------------------------------\n",
            " LASSO     | -27.3209 | 12.0663\n",
            "--------------------------------\n",
            " EN        | -28.4059 | 13.6343\n",
            "--------------------------------\n",
            " KNN       | -21.2346 | 14.6781\n",
            "--------------------------------\n",
            " CART      | -26.2980 | 17.0404\n",
            "--------------------------------\n",
            " SVR       | -29.4321 | 18.0874\n",
            "--------------------------------\n"
          ]
        }
      ]
    },
    {
      "cell_type": "markdown",
      "source": [
        "### 3.1.3 Visualizar Comparação"
      ],
      "metadata": {
        "id": "QYu97_jph7ZK"
      }
    },
    {
      "cell_type": "code",
      "source": [
        "#comparação gráfica dos algoritmos\n",
        "fig = pyplot.figure()\n",
        "fig.suptitle('Comparação de Algoritmos')\n",
        "ax = fig.add_subplot(111)\n",
        "pyplot.boxplot(results)\n",
        "ax.set_xticklabels(names)\n",
        "pyplot.show()"
      ],
      "metadata": {
        "colab": {
          "base_uri": "https://localhost:8080/",
          "height": 294
        },
        "id": "HftXPu3ymc3T",
        "outputId": "a3315dcc-6652-4780-b49f-191e581e7047"
      },
      "execution_count": 52,
      "outputs": [
        {
          "output_type": "display_data",
          "data": {
            "text/plain": [
              "<Figure size 432x288 with 1 Axes>"
            ],
            "image/png": "[encoded data removed]"
          },
          "metadata": {
            "needs_background": "light"
          }
        }
      ]
    },
    {
      "cell_type": "markdown",
      "source": [
        "## 3.2 Melhorar Desempenho do Melhor Algoritmo"
      ],
      "metadata": {
        "id": "m7CsQFPZngZn"
      }
    },
    {
      "cell_type": "markdown",
      "source": [
        "### 3.2.1 Ajustar Parâmetros"
      ],
      "metadata": {
        "id": "cUsYhtUkkGDl"
      }
    },
    {
      "cell_type": "code",
      "source": [
        "k_values = numpy.array([1,3,5,7,9,11,13,15,17,19,21,23,24,25,27,29])\n",
        "\n",
        "#modelo que apresentou o melhor resultado\n",
        "model = KNeighborsRegressor()\n",
        "\n",
        "#ordena os parâmetros a serem testados\n",
        "param_grid = dict(n_neighbors=k_values)\n",
        "kfold = KFold(n_splits=num_folds, random_state=seed, shuffle=True)\n",
        "grid = GridSearchCV(estimator=model, param_grid=param_grid, scoring=scoring, cv=kfold)\n",
        "\n",
        "grid_result = grid.fit(X_train, y_train)"
      ],
      "metadata": {
        "id": "Yj5olcIDw12n"
      },
      "execution_count": 53,
      "outputs": []
    },
    {
      "cell_type": "markdown",
      "source": [
        "### 3.2.2 Apresentar Resultados"
      ],
      "metadata": {
        "id": "3M852FHLBJFI"
      }
    },
    {
      "cell_type": "code",
      "source": [
        "#resultado dos testes com os diferentes parâmetros (n_neighbors / k_values)\n",
        "print(\"Melhor resultado: %f usando %s \\n\" % (grid_result.best_score_, grid_result.best_params_))\n",
        "\n",
        "means = grid_result.cv_results_['mean_test_score']\n",
        "stds = grid_result.cv_results_['std_test_score']\n",
        "params = grid_result.cv_results_['params']\n",
        "\n",
        "for mean, stdev, param in zip(means, stds, params):\n",
        "  print(\"%f (%f) >>> %r\" % (mean, stdev, param))"
      ],
      "metadata": {
        "colab": {
          "base_uri": "https://localhost:8080/"
        },
        "id": "GS3AI_WNofPV",
        "outputId": "ea5b3744-e8e4-4d7f-916f-49c04dd8a766"
      },
      "execution_count": 54,
      "outputs": [
        {
          "output_type": "stream",
          "name": "stdout",
          "text": [
            "Melhor resultado: -17.798343 usando {'n_neighbors': 1} \n",
            "\n",
            "-17.798343 (11.855517) >>> {'n_neighbors': 1}\n",
            "-19.724398 (13.013086) >>> {'n_neighbors': 3}\n",
            "-21.234601 (14.678103) >>> {'n_neighbors': 5}\n",
            "-21.908162 (14.878562) >>> {'n_neighbors': 7}\n",
            "-20.901575 (14.874368) >>> {'n_neighbors': 9}\n",
            "-20.964099 (14.709432) >>> {'n_neighbors': 11}\n",
            "-21.171776 (14.510093) >>> {'n_neighbors': 13}\n",
            "-21.848382 (14.162750) >>> {'n_neighbors': 15}\n",
            "-22.639304 (14.510971) >>> {'n_neighbors': 17}\n",
            "-23.346438 (14.678070) >>> {'n_neighbors': 19}\n",
            "-24.004403 (14.923301) >>> {'n_neighbors': 21}\n",
            "-24.785894 (15.207430) >>> {'n_neighbors': 23}\n",
            "-25.184727 (15.324407) >>> {'n_neighbors': 24}\n",
            "-25.421165 (15.457568) >>> {'n_neighbors': 25}\n",
            "-26.105244 (15.897893) >>> {'n_neighbors': 27}\n",
            "-27.018320 (16.414491) >>> {'n_neighbors': 29}\n"
          ]
        }
      ]
    },
    {
      "cell_type": "markdown",
      "source": [
        "## 3.3 Melhorar Desempenho com Conjunto de Algoritmos"
      ],
      "metadata": {
        "id": "adMwktvunnxf"
      }
    },
    {
      "cell_type": "markdown",
      "source": [
        "### 3.3.1 Selecionar Conjunto de Algoritmos (Ensembles)"
      ],
      "metadata": {
        "id": "HOpTNP6vtlZ4"
      }
    },
    {
      "cell_type": "code",
      "source": [
        "#conjuntos (ensembles)\n",
        "ensembles = []\n",
        "\n",
        "#boosting\n",
        "ensembles.append(('ScaledAB', Pipeline([('Scaler', StandardScaler()),('AB', AdaBoostRegressor())])))\n",
        "ensembles.append(('ScaledGBM', Pipeline([('Scaler', StandardScaler()),('GBM', GradientBoostingRegressor())])))\n",
        "\n",
        "#bagging\n",
        "ensembles.append(('ScaledRF', Pipeline([('Scaler', StandardScaler()),('RF', RandomForestRegressor(n_estimators=10))])))\n",
        "ensembles.append(('ScaledET', Pipeline([('Scaler', StandardScaler()),('ET', ExtraTreesRegressor(n_estimators=10))])))"
      ],
      "metadata": {
        "id": "WEcGJ6uin7Vd"
      },
      "execution_count": 55,
      "outputs": []
    },
    {
      "cell_type": "markdown",
      "source": [
        "---\n",
        "**Nota:**  \n",
        "Por que selecionamos esses conjuntos de algoritmos (ensembles)?"
      ],
      "metadata": {
        "id": "gPfT0iLMvCkz"
      }
    },
    {
      "cell_type": "markdown",
      "source": [
        "### 3.3.2 Comparar Conjuntos de Algoritmos"
      ],
      "metadata": {
        "id": "J7FkrBqDtt52"
      }
    },
    {
      "cell_type": "code",
      "source": [
        "#lista dos nomes dos algoritmos\n",
        "names = []\n",
        "#lista dos resultados dos algoritmos\n",
        "results = []\n",
        "\n",
        "print(f\" {'Algoritmo'} | {'Média':<8} | {'Desvio'}\")\n",
        "print(32 * '-')\n",
        "\n",
        "for name, model in ensembles:\n",
        "  kfold = KFold(n_splits=num_folds, random_state=seed, shuffle=True)\n",
        "  cv_results = cross_val_score(model, X_train, y_train, cv=kfold, scoring=scoring)\n",
        "\n",
        "  #imprimir nome do algoritmo, média e desvio padrão\n",
        "  msg = f\" {name:<9} | {cv_results.mean():.4f} | {cv_results.std():.4f}\"\n",
        "  print(msg)\n",
        "  print(32 * '-')\n",
        "\n",
        "  #insere nome do algoritmo na lista names\n",
        "  names.append(name)\n",
        "  #insere resultado do algoritmo na lista results\n",
        "  results.append(cv_results)"
      ],
      "metadata": {
        "colab": {
          "base_uri": "https://localhost:8080/"
        },
        "id": "Iu28eKlGoX_I",
        "outputId": "d6ff7ec2-daeb-4c1a-92f4-97d1a2a303ec"
      },
      "execution_count": 56,
      "outputs": [
        {
          "output_type": "stream",
          "name": "stdout",
          "text": [
            " Algoritmo | Média    | Desvio\n",
            "--------------------------------\n",
            " ScaledAB  | -15.0139 | 8.1998\n",
            "--------------------------------\n",
            " ScaledGBM | -11.0101 | 8.5436\n",
            "--------------------------------\n",
            " ScaledRF  | -12.6988 | 9.1544\n",
            "--------------------------------\n",
            " ScaledET  | -10.5257 | 7.3389\n",
            "--------------------------------\n"
          ]
        }
      ]
    },
    {
      "cell_type": "markdown",
      "source": [
        "### 3.3.3 Visualizar Comparação"
      ],
      "metadata": {
        "id": "fGKGSoGUuRy1"
      }
    },
    {
      "cell_type": "code",
      "source": [
        "fig = pyplot.figure()\n",
        "fig.suptitle('Comparação dos Conjuntos de Algoritmos')\n",
        "ax = fig.add_subplot(111)\n",
        "pyplot.boxplot(results)\n",
        "ax.set_xticklabels(names)\n",
        "pyplot.show()"
      ],
      "metadata": {
        "colab": {
          "base_uri": "https://localhost:8080/",
          "height": 294
        },
        "id": "D6KJYeM-o130",
        "outputId": "90fff21b-1b9a-4a88-f19a-e3433db30f3a"
      },
      "execution_count": 57,
      "outputs": [
        {
          "output_type": "display_data",
          "data": {
            "text/plain": [
              "<Figure size 432x288 with 1 Axes>"
            ],
            "image/png": "[encoded data removed]"
          },
          "metadata": {
            "needs_background": "light"
          }
        }
      ]
    },
    {
      "cell_type": "markdown",
      "source": [
        "## 3.4 Melhorar Desempenho do Melhor Conjunto de Algoritmos"
      ],
      "metadata": {
        "id": "_hr5SOojpTv8"
      }
    },
    {
      "cell_type": "markdown",
      "source": [
        "### 3.4.1 Ajustar Parâmetros\n"
      ],
      "metadata": {
        "id": "iByis9sqHeWu"
      }
    },
    {
      "cell_type": "code",
      "source": [
        "#refinar GBM\n",
        "\n",
        "param_grid = dict(n_estimators=numpy.array([50,100,300,450,500,600,650,700]))\n",
        "\n",
        "model = GradientBoostingRegressor(random_state=seed)\n",
        "\n",
        "kfold = KFold(n_splits=num_folds, random_state=seed, shuffle=True)\n",
        "grid = GridSearchCV(estimator=model, param_grid=param_grid, scoring=scoring, cv=kfold)\n",
        "\n",
        "grid_result = grid.fit(X_train, y_train)"
      ],
      "metadata": {
        "id": "m-QHCJVMpWBT"
      },
      "execution_count": 58,
      "outputs": []
    },
    {
      "cell_type": "markdown",
      "source": [
        "### 3.4.2 Apresentar Resultados"
      ],
      "metadata": {
        "id": "Ad1Bv7dDHlq-"
      }
    },
    {
      "cell_type": "code",
      "source": [
        "#resultado\n",
        "print(\"Melhor resultado: %f usando %s \\n\" % (grid_result.best_score_, grid_result.best_params_))\n",
        "\n",
        "means = grid_result.cv_results_['mean_test_score']\n",
        "stds = grid_result.cv_results_['std_test_score']\n",
        "params = grid_result.cv_results_['params']\n",
        "\n",
        "for mean, stdev, param in zip(means, stds, params):\n",
        "  print(\"%f (%f) >>> %r\" % (mean, stdev, param))"
      ],
      "metadata": {
        "colab": {
          "base_uri": "https://localhost:8080/"
        },
        "id": "_1950HHWqb9i",
        "outputId": "d181e304-ee6e-403d-8a6f-00b3fbec7f24"
      },
      "execution_count": 59,
      "outputs": [
        {
          "output_type": "stream",
          "name": "stdout",
          "text": [
            "Melhor resultado: -10.531446 usando {'n_estimators': 650} \n",
            "\n",
            "-11.629999 (8.833221) >>> {'n_estimators': 50}\n",
            "-11.071817 (8.771959) >>> {'n_estimators': 100}\n",
            "-10.641054 (8.494574) >>> {'n_estimators': 300}\n",
            "-10.538554 (8.333762) >>> {'n_estimators': 450}\n",
            "-10.543579 (8.311854) >>> {'n_estimators': 500}\n",
            "-10.532535 (8.300689) >>> {'n_estimators': 600}\n",
            "-10.531446 (8.292817) >>> {'n_estimators': 650}\n",
            "-10.535916 (8.275346) >>> {'n_estimators': 700}\n"
          ]
        }
      ]
    },
    {
      "cell_type": "markdown",
      "source": [
        "##4. Finalizar Modelo"
      ],
      "metadata": {
        "id": "q7F8seJyspvc"
      }
    },
    {
      "cell_type": "markdown",
      "source": [
        "## 4.1 Gravar Modelo"
      ],
      "metadata": {
        "id": "nYHqusW4Im63"
      }
    },
    {
      "cell_type": "code",
      "source": [
        "model = GradientBoostingRegressor(random_state=seed, n_estimators=650)\n",
        "model.fit(X_train, y_train)\n",
        "\n",
        "#gravar o modelo no disco\n",
        "filename = 'boston_model.sav'\n",
        "joblib.dump(model, filename)"
      ],
      "metadata": {
        "colab": {
          "base_uri": "https://localhost:8080/"
        },
        "id": "r4Pdmheussmj",
        "outputId": "2eef0e57-bc08-41a9-a017-73bf0ceaf53f"
      },
      "execution_count": 60,
      "outputs": [
        {
          "output_type": "execute_result",
          "data": {
            "text/plain": [
              "['boston_model.sav']"
            ]
          },
          "metadata": {},
          "execution_count": 60
        }
      ]
    },
    {
      "cell_type": "markdown",
      "source": [
        "## 4.2 Carregar Modelo"
      ],
      "metadata": {
        "id": "Ah1niuXdJI8M"
      }
    },
    {
      "cell_type": "code",
      "source": [
        "#carregar modelo do disco \n",
        "loaded_model = joblib.load(filename)"
      ],
      "metadata": {
        "id": "0BDKiT2IJMpS"
      },
      "execution_count": 63,
      "outputs": []
    },
    {
      "cell_type": "markdown",
      "source": [
        "## 4.3 Usar Modelo"
      ],
      "metadata": {
        "id": "M6v2tgUWJgsW"
      }
    },
    {
      "cell_type": "code",
      "source": [
        "result = loaded_model.score(X_test, y_test)\n",
        "print(f'Score: {result}')\n",
        "\n",
        "prediction = loaded_model.predict(X_test)\n",
        "mean2error = mean_squared_error(y_test, prediction)\n",
        "print(f'Erro: {mean2error}')"
      ],
      "metadata": {
        "colab": {
          "base_uri": "https://localhost:8080/"
        },
        "id": "opEL9Yu6tMIY",
        "outputId": "cdbadaf2-821d-4561-aa73-02c6df3b0eff"
      },
      "execution_count": 71,
      "outputs": [
        {
          "output_type": "stream",
          "name": "stdout",
          "text": [
            "Score: 0.8506867007327692\n",
            "Erro: 12.065449295823134\n"
          ]
        }
      ]
    }
  ]
}