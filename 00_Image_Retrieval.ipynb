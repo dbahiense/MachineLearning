{
  "cells": [
    {
      "cell_type": "markdown",
      "metadata": {
        "id": "1gDSGwFsAJk3"
      },
      "source": [
        "1. <strike>criar diretórios para as classes IPC</strike>\n",
        "2. <strike>listar e salvar links com arquivos TAR</strike>\n",
        "3. <strike>baixar arquivos TAR</strike>\n",
        "4. <strike>listar e descompactar arquivos TAR</strike>\n",
        "5. <strike>listar subarquivos ZIP</strike>\n",
        "6. <strike>descompactar subarquivos ZIP para um diretório comum</strike>\n",
        "7. ler full text, determinar classe IPC da patente, transformar e enviar imagem para o respectivo diretório específico\n",
        "8. apagar tudo que não for mais necessário para economizar espaço"
      ]
    },
    {
      "cell_type": "markdown",
      "source": [
        "---\n",
        "---\n",
        "---\n",
        "###0. configurações"
      ],
      "metadata": {
        "id": "Oa-ORCdQxbDs"
      }
    },
    {
      "cell_type": "code",
      "execution_count": 1,
      "metadata": {
        "id": "KtSRWta3ny5u",
        "colab": {
          "base_uri": "https://localhost:8080/"
        },
        "outputId": "9ffdb06e-30b3-4974-ada3-2b16196b433e"
      },
      "outputs": [
        {
          "output_type": "stream",
          "name": "stdout",
          "text": [
            "Mounted at /content/drive\n"
          ]
        }
      ],
      "source": [
        "#mount drive\n",
        "from google.colab import drive\n",
        "drive.mount('/content/drive')"
      ]
    },
    {
      "cell_type": "code",
      "execution_count": null,
      "metadata": {
        "id": "qdkbu0oKhwdC"
      },
      "outputs": [],
      "source": [
        "#install uninstalled modules\n",
        "!pip install wget"
      ]
    },
    {
      "cell_type": "code",
      "execution_count": 3,
      "metadata": {
        "id": "hZ4K1bP-fQoD"
      },
      "outputs": [],
      "source": [
        "#import libraries and modules\n",
        "import os\n",
        "import pickle\n",
        "import wget\n",
        "\n",
        "from bs4 import BeautifulSoup\n",
        "import re\n",
        "import requests\n",
        "\n",
        "import tarfile\n",
        "from zipfile import ZipFile"
      ]
    },
    {
      "cell_type": "code",
      "execution_count": 4,
      "metadata": {
        "id": "gSReUfmbOZeW"
      },
      "outputs": [],
      "source": [
        "#important paths\n",
        "\n",
        "DATA_DIR = '/content/drive/My Drive/octimine/data/' \n",
        "IM_LAKE = '/content/drive/My Drive/octimine/imgs/lake/' \n",
        "IPC_IM = '/content/drive/My Drive/octimine/imgs/ipc/'\n",
        "RAW_IM = '/content/drive/My Drive/octimine/imgs/raw/'"
      ]
    },
    {
      "cell_type": "markdown",
      "metadata": {
        "id": "CgkRiEML1paO"
      },
      "source": [
        "---\n",
        "---\n",
        "---\n",
        "###1. create IPC classes folders"
      ]
    },
    {
      "cell_type": "code",
      "execution_count": 6,
      "metadata": {
        "id": "57G2r-kcemR6"
      },
      "outputs": [],
      "source": [
        "#create folders related to IPC classes\n",
        "#https://ipcpub.wipo.int/\n",
        "\n",
        "ipc_classes = [\n",
        "  'A01','A21','A22','A23','A24','A41','A42','A43','A44','A45','A46','A47','A61','A62','A63','A99',\n",
        "  'B01','B02','B03','B04','B05','B06','B07','B08','B09','B21','B22','B23','B24','B25','B26','B27','B28','B29','B30','B31','B32','B33','B41','B42','B43','B44','B60','B61','B62','B63','B64','B65','B66','B67','B68','B81','B82','B99',\n",
        "  'C01','C02','C03','C04','C05','C06','C07','C08','C09','C10','C11','C12','C13','C14','C21','C22','C23','C25','C30','C40','C99',\n",
        "  'D01','D02','D03','D04','D05','D06','D07','D21','D99',\n",
        "  'E01','E02','E03','E04','E05','E06','E21','E99',\n",
        "  'F01','F02','F03','F04','F15','F16','F17','F21','F22','F23','F24','F25','F26','F27','F28','F41','F42','F99',\n",
        "  'G01','G02','G03','G04','G05','G06','G07','G08','G09','G10','G11','G12','G16','G21','G99',\n",
        "  'H01','H02','H03','H04','H05','H99'\n",
        "]"
      ]
    },
    {
      "cell_type": "code",
      "execution_count": null,
      "metadata": {
        "id": "IXG3fEUFbFqt"
      },
      "outputs": [],
      "source": [
        "#mkdir\n",
        "for ipc_class in ipc_classes:\n",
        "  ipc_path = os.path.join(IPC_IM, ipc_class)\n",
        "  ipc_exists = os.path.isdir(ipc_path)\n",
        "\n",
        "  if ipc_exists:\n",
        "    print(f'Folder {ipc_class} exists already! Moving on...')\n",
        "  else:\n",
        "    os.mkdir(ipc_path)\n",
        "    print(f'Folder {ipc_path} successfully created.')"
      ]
    },
    {
      "cell_type": "markdown",
      "metadata": {
        "id": "MTW_M8p41xjS"
      },
      "source": [
        "---\n",
        "---\n",
        "---\n",
        "###2. list paths of TAR files to be downloaded"
      ]
    },
    {
      "cell_type": "code",
      "execution_count": 7,
      "metadata": {
        "id": "Ag_JLbucfS6F"
      },
      "outputs": [],
      "source": [
        "#list TAR files paths\n",
        "#https://www.crummy.com/software/BeautifulSoup/bs4/doc.ptbr/ \n",
        "\n",
        "tar_files = []\n",
        "\n",
        "years = ['2012']\n",
        "\n",
        "#from 2001 to 2010 the files are ZIP\n",
        "#from 2011 onwards the files are TAR\n",
        "\n",
        "#years = [\n",
        "#  '2021',\n",
        "#  '2020', '2019', '2018', '2017', '2016', '2015', '2014', '2013', '2012', '2011',\n",
        "#  '2010', '2009', '2008', '2007', '2006', '2005', '2004', '2003', '2002', '2001'\n",
        "#]"
      ]
    },
    {
      "cell_type": "code",
      "execution_count": null,
      "metadata": {
        "colab": {
          "base_uri": "https://localhost:8080/"
        },
        "id": "yat3z5MdpgRZ",
        "outputId": "606a00ad-2337-462c-bdc0-c93a08b1814a"
      },
      "outputs": [
        {
          "name": "stdout",
          "output_type": "stream",
          "text": [
            "52\n"
          ]
        }
      ],
      "source": [
        "#\n",
        "for year in years:\n",
        "  url = f'https://bulkdata.uspto.gov/data/patent/grant/redbook/{year}/'\n",
        "  soup = BeautifulSoup(requests.get(url).text, 'html.parser')\n",
        "\n",
        "  #https://www.crummy.com/software/BeautifulSoup/bs4/doc.ptbr/#os-argumentos-palavras-chave\n",
        "  #keyword, common to all files to be downloaded\n",
        "  keyword = year\n",
        "\n",
        "  for x in soup.find_all(href=re.compile(keyword)):\n",
        "      tar_files.append(url + x.get('href'))\n",
        "\n",
        "print(len(tar_files))"
      ]
    },
    {
      "cell_type": "code",
      "execution_count": null,
      "metadata": {
        "id": "k9znLIv3g4p3"
      },
      "outputs": [],
      "source": [
        "#save TAR files list for later use\n",
        "pickle.dump(\n",
        "    tar_files,\n",
        "    open(DATA_DIR + 'TAR-files.pickle', 'wb'))"
      ]
    },
    {
      "cell_type": "markdown",
      "metadata": {
        "id": "fD_MR-lA11Vd"
      },
      "source": [
        "---\n",
        "---\n",
        "---\n",
        "###3. download TAR files"
      ]
    },
    {
      "cell_type": "code",
      "execution_count": null,
      "metadata": {
        "id": "sbyVIkevvz4D"
      },
      "outputs": [],
      "source": [
        "#open TAR files list\n"
      ]
    },
    {
      "cell_type": "code",
      "execution_count": null,
      "metadata": {
        "id": "G9A0jxbBXEXT"
      },
      "outputs": [],
      "source": [
        "#download TAR files\n",
        "for tar_file in tar_files:\n",
        "  file_name = tar_file[-12:]\n",
        "  file_path = RAW_IM + file_name\n",
        "  file_exists = os.path.isfile(file_path)\n",
        "\n",
        "  if file_exists:\n",
        "    print(f'File {file_name} has been downloaded already! Moving on...')\n",
        "  else:\n",
        "    wget.download(tar_file, file_path)\n",
        "    print(f'Downloading file {file_name}. Please wait...')    \n",
        "    print(f'File {file_name} successfully downloaded.')"
      ]
    },
    {
      "cell_type": "markdown",
      "metadata": {
        "id": "O10jUNIFIfHf"
      },
      "source": [
        "---\n",
        "---\n",
        "---\n",
        "###4. list, untar and delete downloaded TAR source files"
      ]
    },
    {
      "cell_type": "code",
      "execution_count": null,
      "metadata": {
        "colab": {
          "base_uri": "https://localhost:8080/"
        },
        "id": "QDOOtvj0kxVS",
        "outputId": "2f7cc32b-105c-402a-8a2e-76c5a4f60346"
      },
      "outputs": [
        {
          "data": {
            "text/plain": [
              "108"
            ]
          },
          "execution_count": 13,
          "metadata": {},
          "output_type": "execute_result"
        }
      ],
      "source": [
        "#list tar files\n",
        "untar_files = []\n",
        "\n",
        "for root, dirs, files in os.walk(RAW_IM):\n",
        "  for x in files:\n",
        "    #check only for .tar files\n",
        "    if x.endswith('.tar'):\n",
        "      untar_files.append(os.path.join(root, x))\n",
        "  #break to list only first level folder\n",
        "  #https://stackoverflow.com/a/20868760/3499881\n",
        "  break\n",
        "\n",
        "len(untar_files)"
      ]
    },
    {
      "cell_type": "code",
      "execution_count": null,
      "metadata": {
        "id": "qTfpb_cUyAE7"
      },
      "outputs": [],
      "source": [
        "#untar files\n",
        "for untar_file in untar_files:\n",
        "  folder_name = 'I' + untar_file[-12:-4]\n",
        "  folder_path = RAW_IM + folder_name\n",
        "  folder_exists = os.path.isdir(folder_path)\n",
        "\n",
        "  if folder_exists:\n",
        "    print(f'Folder {folder_name} exists already! Moving on...')\n",
        "\n",
        "  else:\n",
        "    print(f'Untaring file {untar_file}. Please wait...')    \n",
        "    untar = tarfile.open(untar_file)\n",
        "    untar.extractall(RAW_IM)\n",
        "    untar.close()\n",
        "    print(f'File {untar_file} successfully untared.')\n",
        "\n",
        "    #delete original tar files to save space\n",
        "    #print(f'Original file {untar_file} deleted.')"
      ]
    },
    {
      "cell_type": "markdown",
      "metadata": {
        "id": "s0tA4TNM2BSf"
      },
      "source": [
        "---\n",
        "---\n",
        "---\n",
        "###5. list and unzip ZIP (sub)files\n"
      ]
    },
    {
      "cell_type": "code",
      "execution_count": null,
      "metadata": {
        "colab": {
          "base_uri": "https://localhost:8080/"
        },
        "id": "YSGymOuOvR9S",
        "outputId": "e38bc34a-b2ab-4b7d-e5bd-f8527be6e60d"
      },
      "outputs": [
        {
          "data": {
            "text/plain": [
              "411767"
            ]
          },
          "execution_count": 28,
          "metadata": {},
          "output_type": "execute_result"
        }
      ],
      "source": [
        "#list ZIP subfiles\n",
        "zip_files = []\n",
        "\n",
        "for root, dirs, files in os.walk(RAW_IM):\n",
        "  for x in files:\n",
        "    if x.endswith('.ZIP'):\n",
        "      zip_files.append(os.path.join(root, x))\n",
        "\n",
        "len(zip_files)"
      ]
    },
    {
      "cell_type": "code",
      "execution_count": null,
      "metadata": {
        "colab": {
          "background_save": true
        },
        "id": "uYMoqag-0W3u"
      },
      "outputs": [],
      "source": [
        "#unzip ZIP subfiles\n",
        "#TODO: verificar se tarfile descompactaria arquivos zip e vice-versa\n",
        "for zip_file in zip_files:\n",
        "  folder_name = zip_file[-23:-4]\n",
        "  folder_path = IM_LAKE + folder_name\n",
        "  folder_exists = os.path.isdir(folder_path)\n",
        "\n",
        "  if folder_exists:\n",
        "    print(f'Folder {folder_name} exists already! Moving on...')\n",
        "\n",
        "  else:\n",
        "    print(f'Unzipping file {zip_file}. Please wait...')    \n",
        "    ZipFile(zip_file, 'r').extractall(path=IM_LAKE)\n",
        "    print(f'File {zip_file} successfully unzipped.')"
      ]
    }
  ],
  "metadata": {
    "colab": {
      "collapsed_sections": [],
      "provenance": [],
      "authorship_tag": "ABX9TyMCzSTgGyNKRCIjhuWnH/lV"
    },
    "kernelspec": {
      "display_name": "Python 3",
      "name": "python3"
    },
    "language_info": {
      "name": "python"
    }
  },
  "nbformat": 4,
  "nbformat_minor": 0
}