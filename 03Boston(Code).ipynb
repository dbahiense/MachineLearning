{
  "nbformat": 4,
  "nbformat_minor": 0,
  "metadata": {
    "colab": {
      "name": "03.Boston.ipynb",
      "provenance": [],
      "collapsed_sections": [],
      "authorship_tag": "ABX9TyMvaTTvdT0ZYqUYTVF3IWwt",
      "include_colab_link": true
    },
    "kernelspec": {
      "name": "python3",
      "display_name": "Python 3"
    },
    "language_info": {
      "name": "python"
    }
  },
  "cells": [
    {
      "cell_type": "markdown",
      "metadata": {
        "id": "view-in-github",
        "colab_type": "text"
      },
      "source": [
        "<a href=\"https://colab.research.google.com/github/dbahiense/MachineLearning/blob/main/03Boston(Code).ipynb\" target=\"_parent\"><img src=\"https://colab.research.google.com/assets/colab-badge.svg\" alt=\"Open In Colab\"/></a>"
      ]
    },
    {
      "cell_type": "markdown",
      "source": [
        "# **III. PROBLEMA DE REGRESSÃO**"
      ],
      "metadata": {
        "id": "7bdJfdhWA5Ql"
      }
    },
    {
      "cell_type": "markdown",
      "source": [
        "# 1. Preparativos\n",
        "---"
      ],
      "metadata": {
        "id": "QK_EFDA6UPQz"
      }
    },
    {
      "cell_type": "markdown",
      "source": [
        "## 1.1 Importar Bibliotecas e Módulos"
      ],
      "metadata": {
        "id": "c2NawlGj-O0P"
      }
    },
    {
      "cell_type": "code",
      "source": [
        "#importar bibliotecas e módulos necessários\n",
        "import os\n",
        "\n",
        "import numpy\n",
        "from numpy import arange\n",
        "from numpy import set_printoptions\n",
        "\n",
        "from matplotlib import pyplot\n",
        "\n",
        "from pandas import read_csv\n",
        "from pandas import set_option\n",
        "from pandas.plotting import scatter_matrix\n",
        "\n",
        "from sklearn.preprocessing import StandardScaler\n",
        "\n",
        "from sklearn.model_selection import train_test_split\n",
        "from sklearn.model_selection import KFold\n",
        "from sklearn.model_selection import cross_val_score\n",
        "from sklearn.model_selection import GridSearchCV\n",
        "\n",
        "from sklearn.linear_model import LinearRegression\n",
        "from sklearn.linear_model import Lasso\n",
        "from sklearn.linear_model import ElasticNet\n",
        "from sklearn.tree import DecisionTreeRegressor\n",
        "from sklearn.neighbors import KNeighborsRegressor\n",
        "from sklearn.svm import SVR\n",
        "\n",
        "from sklearn.pipeline import Pipeline\n",
        "\n",
        "from sklearn.ensemble import RandomForestRegressor\n",
        "from sklearn.ensemble import GradientBoostingRegressor\n",
        "from sklearn.ensemble import ExtraTreesRegressor\n",
        "from sklearn.ensemble import AdaBoostRegressor\n",
        "from sklearn.metrics import mean_squared_error"
      ],
      "metadata": {
        "id": "NcO7g25P-aBs"
      },
      "execution_count": 28,
      "outputs": []
    },
    {
      "cell_type": "markdown",
      "source": [
        "## 1.2 Parâmetros"
      ],
      "metadata": {
        "id": "4Wn-83xW-x-w"
      }
    },
    {
      "cell_type": "code",
      "source": [
        "# Opções e métricas para treino e teste\n",
        "test_size = 0.20\n",
        "seed = 7\n",
        "num_folds = 10\n",
        "scoring = 'neg_mean_squared_error'"
      ],
      "metadata": {
        "id": "WCxljMYs_WwZ"
      },
      "execution_count": 2,
      "outputs": []
    },
    {
      "cell_type": "markdown",
      "source": [
        "---\n",
        "**Notas:**  \n",
        "- `test_size`é um float...\n",
        "\n",
        "- `seed` é um inteiro utilizado em `random_state` que, por sua vez, indica o grau de *embaralhamento* (shuffling) aplicado aos dados antes do fatiamento.  \n",
        "https://scikit-learn.org/stable/glossary.html#term-random_state  \n",
        "https://scikit-learn.org/stable/modules/generated/sklearn.model_selection.train_test_split.html"
      ],
      "metadata": {
        "id": "QnIum9qWI0GM"
      }
    },
    {
      "cell_type": "markdown",
      "source": [
        "# 2. Dados\n",
        "---"
      ],
      "metadata": {
        "id": "MaDSyZVjuQtq"
      }
    },
    {
      "cell_type": "markdown",
      "source": [
        "## 2.1 Obter Dados"
      ],
      "metadata": {
        "id": "3ajvjvGi7J8M"
      }
    },
    {
      "cell_type": "code",
      "source": [
        "#endereço dos dados originais\n",
        "#pode ser modificado para endereço local na própria máquina\n",
        "url = \"https://gist.githubusercontent.com/dbahiense/10f30ddee5ea0e44b63bb08db1010c9d/raw/368fb94696d70253dc9cd4683bec6fad4fcf22ee/housing.csv\"\n",
        "\n",
        "#nome dos atributos\n",
        "columns = ['CRIM', 'ZN', 'INDUS', 'CHAS', 'NOX', 'RM', 'AGE', 'DIS', 'RAD', 'TAX', 'PTRATIO', 'B', 'LSTAT', 'MEDV']\n",
        "\n",
        "#lê o arquivo\n",
        "#delimitador é espaço em branco (delim_whitespace = True)\n",
        "data = read_csv(url, delim_whitespace=True, names=columns)"
      ],
      "metadata": {
        "id": "iDImqQuu-lLe"
      },
      "execution_count": 3,
      "outputs": []
    },
    {
      "cell_type": "markdown",
      "source": [
        "## 2.2 Entender Dados"
      ],
      "metadata": {
        "id": "lNBcgz-pFzIc"
      }
    },
    {
      "cell_type": "markdown",
      "source": [
        "### 2.2.1 Descrever Dados"
      ],
      "metadata": {
        "id": "Yii1kf388WDk"
      }
    },
    {
      "cell_type": "code",
      "execution_count": null,
      "metadata": {
        "id": "5YHs1elW38lw"
      },
      "outputs": [],
      "source": [
        "#mostra as dimensões do dataset\n",
        "shape = data.shape #(linhas, colunas)\n",
        "shape"
      ]
    },
    {
      "cell_type": "code",
      "source": [
        "#mostra as primeiras n instâncias dos dados\n",
        "peek = data.head(10) #head(n) para mostrar as primeiras n linhas, default n = 5\n",
        "peek"
      ],
      "metadata": {
        "id": "NuRDv18ODau_"
      },
      "execution_count": null,
      "outputs": []
    },
    {
      "cell_type": "code",
      "source": [
        "#mostra os tipos de dados de cada atributo (coluna)\n",
        "types = data.dtypes\n",
        "types"
      ],
      "metadata": {
        "id": "Ec-KoJE8HW8A"
      },
      "execution_count": null,
      "outputs": []
    },
    {
      "cell_type": "markdown",
      "source": [
        "### 2.2.2 Estatística Descritiva  \n",
        "\n",
        "**mais:** https://www.investopedia.com/terms/d/descriptive_statistics.asp"
      ],
      "metadata": {
        "id": "OMhxSd7VG0G2"
      }
    },
    {
      "cell_type": "code",
      "source": [
        "#mostra os dados estatísticos de cada atributo (coluna)\n",
        "set_option('precision', 1) #precisão de uma casa decimal após a vírgula\n",
        "description = data.describe()\n",
        "description"
      ],
      "metadata": {
        "id": "6_xht5XdG4Jo"
      },
      "execution_count": null,
      "outputs": []
    },
    {
      "cell_type": "code",
      "source": [
        "#mostra a correlação entre os atributos\n",
        "set_option('precision', 2) #precisão de duas casas decimais após a vírgula\n",
        "#métodos podem ser: pearson, spearman ou kendall\n",
        "correlations = data.corr(method = 'pearson')\n",
        "correlations"
      ],
      "metadata": {
        "id": "m6C7pE53IucG"
      },
      "execution_count": null,
      "outputs": []
    },
    {
      "cell_type": "code",
      "source": [
        "#mostra a distorção (obliquidade) das distribuições univariadas\n",
        "skew = data.skew(numeric_only=True)\n",
        "skew"
      ],
      "metadata": {
        "id": "CEQpT7B1JNnT"
      },
      "execution_count": null,
      "outputs": []
    },
    {
      "cell_type": "markdown",
      "source": [
        "## 2.3 Visualizar Dados"
      ],
      "metadata": {
        "id": "GMzLnmDU8coc"
      }
    },
    {
      "cell_type": "markdown",
      "source": [
        "### 2.3.1 Gráficos Univariados"
      ],
      "metadata": {
        "id": "eU35sYt_KayC"
      }
    },
    {
      "cell_type": "markdown",
      "source": [
        "#### 2.3.1.1 Histograma"
      ],
      "metadata": {
        "id": "HtNYlzkiKh0l"
      }
    },
    {
      "cell_type": "code",
      "source": [
        "data.hist(sharex=False, sharey=False, xlabelsize=1, ylabelsize=1)\n",
        "pyplot.show()"
      ],
      "metadata": {
        "id": "tbXJ_VgCKmRW"
      },
      "execution_count": null,
      "outputs": []
    },
    {
      "cell_type": "markdown",
      "source": [
        "#### 2.3.1.2 Gráficos de Densidade"
      ],
      "metadata": {
        "id": "VQ2u6GHOK2ex"
      }
    },
    {
      "cell_type": "code",
      "source": [
        "#gráficos de densidade\n",
        "#atenção ao layout para caberem todos os gráficos (x * y >= n° de atributos)\n",
        "data.plot(kind='density', subplots=True, layout=(4,4), sharex=False, sharey=False, legend=False, fontsize=2)\n",
        "pyplot.show()"
      ],
      "metadata": {
        "id": "CFq05ZSRK7F1"
      },
      "execution_count": null,
      "outputs": []
    },
    {
      "cell_type": "markdown",
      "source": [
        "#### 2.3.1.3 Box Plot"
      ],
      "metadata": {
        "id": "QveZ7o6jLfbf"
      }
    },
    {
      "cell_type": "code",
      "source": [
        "#box plot\n",
        "#atenção ao layout para caberem todos os gráficos (x * y >= n° de atributos)\n",
        "data.plot(kind='box', subplots=True, layout=(4,4), sharex=False, sharey=False, fontsize=8)\n",
        "pyplot.show()"
      ],
      "metadata": {
        "id": "Rf61CicALjFE"
      },
      "execution_count": null,
      "outputs": []
    },
    {
      "cell_type": "markdown",
      "source": [
        "### 2.3.2 Gráficos Multivariados"
      ],
      "metadata": {
        "id": "G1qSMOoCL4oj"
      }
    },
    {
      "cell_type": "markdown",
      "source": [
        "#### 2.3.2.1 Matriz de Correlação"
      ],
      "metadata": {
        "id": "MpF20bDIL-tk"
      }
    },
    {
      "cell_type": "code",
      "source": [
        "#matriz de correlação\n",
        "#corr = 1 atributos diretamente correlacionados\n",
        "#corr = 0 atributos não relacionados\n",
        "#corr = -1 atributos inversamente correlacionados\n",
        "fig = pyplot.figure()\n",
        "ax = fig.add_subplot(111)\n",
        "cax = ax.matshow(correlations, vmin=-1, vmax=1, interpolation='none')\n",
        "fig.colorbar(cax)\n",
        "ticks = numpy.arange(0,14,1)\n",
        "ax.set_xticks(ticks)\n",
        "ax.set_yticks(ticks)\n",
        "ax.set_xticklabels(columns)\n",
        "ax.set_yticklabels(columns)\n",
        "pyplot.show()"
      ],
      "metadata": {
        "id": "-4HX8kRXMIEU"
      },
      "execution_count": null,
      "outputs": []
    },
    {
      "cell_type": "markdown",
      "source": [
        "#### 2.3.2.2 Scatter Plot"
      ],
      "metadata": {
        "id": "3fgG00GtOoCU"
      }
    },
    {
      "cell_type": "code",
      "source": [
        "scatter_matrix(data)\n",
        "pyplot.show()"
      ],
      "metadata": {
        "id": "4tSgzEvNOtI7"
      },
      "execution_count": null,
      "outputs": []
    },
    {
      "cell_type": "markdown",
      "source": [
        "## 2.4 Preparar Dados"
      ],
      "metadata": {
        "id": "r6NsoumR7rNk"
      }
    },
    {
      "cell_type": "markdown",
      "source": [
        "O conjunto de dados não apresenta valores faltantes nem redundantes. Entretanto, os atributos estão em diversas escalas. Para corrigir isso iremos padronizar os dados."
      ],
      "metadata": {
        "id": "q1FZFDVCPRPp"
      }
    },
    {
      "cell_type": "markdown",
      "source": [
        "### 2.4.1 Padronizar Dados"
      ],
      "metadata": {
        "id": "5odH8NZtf72t"
      }
    },
    {
      "cell_type": "code",
      "source": [
        "#dispõe os dados em forma de array\n",
        "array = data.values\n",
        "\n",
        "#fatia os dados em um conjunto de inputs X e outro de output y\n",
        "X = array[ : , 0:13]\n",
        "y = array[ : , 13]\n",
        "\n",
        "#padroniza os dados (fit and transform)\n",
        "scaler = StandardScaler().fit(X)\n",
        "X = scaler.transform(X)\n",
        "\n",
        "#imprime os dados padronizados\n",
        "set_printoptions(precision=3) #precisão de três casas decimais após a vírgula\n",
        "print(X[ : , 0:13])"
      ],
      "metadata": {
        "id": "pEwmggsVCvLs"
      },
      "execution_count": null,
      "outputs": []
    },
    {
      "cell_type": "markdown",
      "source": [
        "---  \n",
        "**Notas:**  \n",
        "`X = array[ : , 0:13]` trata-se de um fatiamento (slice) no formato `[start, stop]`.  \n",
        "Nesse caso, `start = : ` significa `start` da primeira à última linha e  \n",
        "`stop = 0:13` significa `stop`da primeira à décima terceira coluna, ou melhor dizendo, da coluna de índice 0 à coluna de índice 13.  \n",
        "Não podemos nos esquecer que no caso do Python os intervalos geralmente são [fechados, abertos[.  \n",
        "\n",
        "https://docs.python.org/3/tutorial/introduction.html#lists  \n",
        "\n",
        "`StandardScaler()`"
      ],
      "metadata": {
        "id": "oJQABa8tW9Qv"
      }
    },
    {
      "cell_type": "markdown",
      "source": [
        "### 2.4.2 Reduzir Dados"
      ],
      "metadata": {
        "id": "UjnsGg8erVg9"
      }
    },
    {
      "cell_type": "markdown",
      "source": [
        "### 2.4.3 Fatiar Dados\n",
        "Separa um conjunto de dados para o treinamento e um outro conjunto de dados para os testes."
      ],
      "metadata": {
        "id": "pGN4nTqn-1kx"
      }
    },
    {
      "cell_type": "code",
      "source": [
        "#From documentation: split array or matrix into random train and test subsets\n",
        "X_train, X_test, y_train, y_test = train_test_split(X, y, test_size=test_size, random_state=seed)"
      ],
      "metadata": {
        "id": "7vx0aMLeiA1f"
      },
      "execution_count": 16,
      "outputs": []
    },
    {
      "cell_type": "markdown",
      "source": [
        "---\n",
        "**Nota:**  \n",
        "`train_test_split`: https://scikit-learn.org/stable/modules/generated/sklearn.model_selection.train_test_split.html"
      ],
      "metadata": {
        "id": "NxvQ351nhnyo"
      }
    },
    {
      "cell_type": "markdown",
      "source": [
        "#3. Algoritmos\n",
        "---"
      ],
      "metadata": {
        "id": "xdYFNPiu8upe"
      }
    },
    {
      "cell_type": "markdown",
      "source": [
        "## 3.1 Avaliar Algoritmos"
      ],
      "metadata": {
        "id": "KemQwujur4fg"
      }
    },
    {
      "cell_type": "markdown",
      "source": [
        "### 3.1.1 Selecionar Algoritmos"
      ],
      "metadata": {
        "id": "ElEPb0hvCB-D"
      }
    },
    {
      "cell_type": "code",
      "source": [
        "#seleção de algoritmos\n",
        "models = []\n",
        "models.append(('LR', LinearRegression()))\n",
        "models.append(('LASSO', Lasso()))\n",
        "models.append(('EN', ElasticNet()))\n",
        "models.append(('KNN', KNeighborsRegressor()))\n",
        "models.append(('CART', DecisionTreeRegressor()))\n",
        "models.append(('SVR', SVR()))"
      ],
      "metadata": {
        "id": "JJXZfFWrrxz6"
      },
      "execution_count": 17,
      "outputs": []
    },
    {
      "cell_type": "markdown",
      "source": [
        "---\n",
        "**Nota:**  \n",
        "Por que selecionamos esses algoritmos?"
      ],
      "metadata": {
        "id": "1fUBwKkpmDY8"
      }
    },
    {
      "cell_type": "markdown",
      "source": [
        "### 3.1.2 Comparar Algoritmos"
      ],
      "metadata": {
        "id": "lPBv6fxfxCgA"
      }
    },
    {
      "cell_type": "code",
      "source": [
        "#lista dos nomes dos algoritmos\n",
        "names = []\n",
        "#lista dos resultados dos algoritmos\n",
        "results = []\n",
        "\n",
        "print(f\" {'Algoritmo'} | {'Média':<8} | {'Desvio'}\")\n",
        "print(32 * '-')\n",
        "\n",
        "for name, model in models:\n",
        "  kfold = KFold(n_splits=num_folds, random_state=seed, shuffle=True)\n",
        "  cv_results = cross_val_score(model, X_train, y_train, cv=kfold, scoring=scoring)\n",
        "\n",
        "  #imprimir nome do algoritmo, média e desvio padrão\n",
        "  msg = f\" {name:<9} | {cv_results.mean():.4f} | {cv_results.std():.4f}\"\n",
        "  print(msg)\n",
        "  print(32 * '-')\n",
        "\n",
        "  #insere nome do algoritmo na lista names \n",
        "  names.append(name)\n",
        "  #insere resultado do algoritmo na lista results\n",
        "  results.append(cv_results)"
      ],
      "metadata": {
        "id": "ZP9NL6hLhXNX"
      },
      "execution_count": null,
      "outputs": []
    },
    {
      "cell_type": "markdown",
      "source": [
        "### 3.1.3 Visualizar Comparação"
      ],
      "metadata": {
        "id": "QYu97_jph7ZK"
      }
    },
    {
      "cell_type": "code",
      "source": [
        "#comparação gráfica dos algoritmos\n",
        "fig = pyplot.figure()\n",
        "fig.suptitle('Comparação de Algoritmos')\n",
        "ax = fig.add_subplot(111)\n",
        "pyplot.boxplot(results)\n",
        "ax.set_xticklabels(names)\n",
        "pyplot.show()"
      ],
      "metadata": {
        "id": "HftXPu3ymc3T"
      },
      "execution_count": null,
      "outputs": []
    },
    {
      "cell_type": "markdown",
      "source": [
        "## 3.2 Melhorar Desempenho do Melhor Algoritmo"
      ],
      "metadata": {
        "id": "m7CsQFPZngZn"
      }
    },
    {
      "cell_type": "markdown",
      "source": [
        "### 3.2.1 Ajustar Parâmetros"
      ],
      "metadata": {
        "id": "cUsYhtUkkGDl"
      }
    },
    {
      "cell_type": "code",
      "source": [
        "k_values = numpy.array([1,3,5,7,9,11,13,15,17,19,21,23,24,25,27,29])\n",
        "\n",
        "#modelo que apresentou o melhor resultado\n",
        "model = KNeighborsRegressor()\n",
        "\n",
        "#ordena os parâmetros a serem testados\n",
        "param_grid = dict(n_neighbors=k_values)\n",
        "kfold = KFold(n_splits=num_folds, random_state=seed, shuffle=True)\n",
        "grid = GridSearchCV(estimator=model, param_grid=param_grid, scoring=scoring, cv=kfold)\n",
        "\n",
        "grid_result = grid.fit(X_train, y_train)"
      ],
      "metadata": {
        "id": "Yj5olcIDw12n"
      },
      "execution_count": 20,
      "outputs": []
    },
    {
      "cell_type": "markdown",
      "source": [
        "### 3.2.2 Apresentar Resultados"
      ],
      "metadata": {
        "id": "3M852FHLBJFI"
      }
    },
    {
      "cell_type": "code",
      "source": [
        "#resultado dos testes com os diferentes parâmetros (n_neighbors / k_values)\n",
        "print(\"Melhor resultado: %f usando %s \\n\" % (grid_result.best_score_, grid_result.best_params_))\n",
        "\n",
        "means = grid_result.cv_results_['mean_test_score']\n",
        "stds = grid_result.cv_results_['std_test_score']\n",
        "params = grid_result.cv_results_['params']\n",
        "\n",
        "for mean, stdev, param in zip(means, stds, params):\n",
        "  print(\"%f (%f) >>> %r\" % (mean, stdev, param))"
      ],
      "metadata": {
        "id": "GS3AI_WNofPV"
      },
      "execution_count": null,
      "outputs": []
    },
    {
      "cell_type": "markdown",
      "source": [
        "## 3.3 Melhorar Desempenho com Conjunto de Algoritmos"
      ],
      "metadata": {
        "id": "adMwktvunnxf"
      }
    },
    {
      "cell_type": "markdown",
      "source": [
        "### 3.3.1 Selecionar Conjunto de Algoritmos (Ensembles)"
      ],
      "metadata": {
        "id": "HOpTNP6vtlZ4"
      }
    },
    {
      "cell_type": "code",
      "source": [
        "#conjuntos (ensembles)\n",
        "ensembles = []\n",
        "\n",
        "#boosting\n",
        "ensembles.append(('ScaledAB', Pipeline([('Scaler', StandardScaler()),('AB', AdaBoostRegressor())])))\n",
        "ensembles.append(('ScaledGBM', Pipeline([('Scaler', StandardScaler()),('GBM', GradientBoostingRegressor())])))\n",
        "\n",
        "#bagging\n",
        "ensembles.append(('ScaledRF', Pipeline([('Scaler', StandardScaler()),('RF', RandomForestRegressor(n_estimators=10))])))\n",
        "ensembles.append(('ScaledET', Pipeline([('Scaler', StandardScaler()),('ET', ExtraTreesRegressor(n_estimators=10))])))"
      ],
      "metadata": {
        "id": "WEcGJ6uin7Vd"
      },
      "execution_count": 22,
      "outputs": []
    },
    {
      "cell_type": "markdown",
      "source": [
        "---\n",
        "**Nota:**  \n",
        "Por que selecionamos esses conjuntos de algoritmos (ensembles)?"
      ],
      "metadata": {
        "id": "gPfT0iLMvCkz"
      }
    },
    {
      "cell_type": "markdown",
      "source": [
        "### 3.3.2 Comparar Conjuntos de Algoritmos"
      ],
      "metadata": {
        "id": "J7FkrBqDtt52"
      }
    },
    {
      "cell_type": "code",
      "source": [
        "#lista dos nomes dos algoritmos\n",
        "names = []\n",
        "#lista dos resultados dos algoritmos\n",
        "results = []\n",
        "\n",
        "for name, model in ensembles:\n",
        "  kfold = KFold(n_splits=num_folds, random_state=seed, shuffle=True)\n",
        "  cv_results = cross_val_score(model, X_train, y_train, cv=kfold, scoring=scoring)\n",
        "\n",
        "  #média, desvio padrão, algoritmo\n",
        "  msg = f'{cv_results.mean():.4f} ({cv_results.std():.4f}): {name}'\n",
        "  print(msg)\n",
        "\n",
        "  #insere nome do algoritmo na lista names\n",
        "  names.append(name)\n",
        "  #insere resultado do algoritmo na lista results\n",
        "  results.append(cv_results)"
      ],
      "metadata": {
        "id": "Iu28eKlGoX_I"
      },
      "execution_count": null,
      "outputs": []
    },
    {
      "cell_type": "markdown",
      "source": [
        "### 3.3.3 Visualizar Comparação"
      ],
      "metadata": {
        "id": "fGKGSoGUuRy1"
      }
    },
    {
      "cell_type": "code",
      "source": [
        "fig = pyplot.figure()\n",
        "fig.suptitle('Comparação dos Conjuntos de Algoritmos')\n",
        "ax = fig.add_subplot(111)\n",
        "pyplot.boxplot(results)\n",
        "ax.set_xticklabels(names)\n",
        "pyplot.show()"
      ],
      "metadata": {
        "id": "D6KJYeM-o130"
      },
      "execution_count": null,
      "outputs": []
    },
    {
      "cell_type": "markdown",
      "source": [
        "## 3.4 Melhorar Desempenho do Melhor Conjunto de Algoritmos"
      ],
      "metadata": {
        "id": "_hr5SOojpTv8"
      }
    },
    {
      "cell_type": "markdown",
      "source": [
        "### 3.4.1 Ajustar Parâmetros\n"
      ],
      "metadata": {
        "id": "iByis9sqHeWu"
      }
    },
    {
      "cell_type": "code",
      "source": [
        "#refinar GBM\n",
        "\n",
        "param_grid = dict(n_estimators=numpy.array([50,100,300,450,500,600,650,700]))\n",
        "\n",
        "model = GradientBoostingRegressor(random_state=seed)\n",
        "\n",
        "kfold = KFold(n_splits=num_folds, random_state=seed, shuffle=True)\n",
        "grid = GridSearchCV(estimator=model, param_grid=param_grid, scoring=scoring, cv=kfold)\n",
        "\n",
        "grid_result = grid.fit(X_train, y_train)"
      ],
      "metadata": {
        "id": "m-QHCJVMpWBT"
      },
      "execution_count": 25,
      "outputs": []
    },
    {
      "cell_type": "markdown",
      "source": [
        "### 3.4.2 Apresentar Resultados"
      ],
      "metadata": {
        "id": "Ad1Bv7dDHlq-"
      }
    },
    {
      "cell_type": "code",
      "source": [
        "#resultado\n",
        "print(\"Melhor resultado: %f usando %s \\n\" % (grid_result.best_score_, grid_result.best_params_))\n",
        "\n",
        "means = grid_result.cv_results_['mean_test_score']\n",
        "stds = grid_result.cv_results_['std_test_score']\n",
        "params = grid_result.cv_results_['params']\n",
        "\n",
        "for mean, stdev, param in zip(means, stds, params):\n",
        "  print(\"%f (%f) >>> %r\" % (mean, stdev, param))"
      ],
      "metadata": {
        "id": "_1950HHWqb9i"
      },
      "execution_count": null,
      "outputs": []
    },
    {
      "cell_type": "markdown",
      "source": [
        "##4. Finalizar Modelo"
      ],
      "metadata": {
        "id": "q7F8seJyspvc"
      }
    },
    {
      "cell_type": "markdown",
      "source": [
        "## 4.1 Gravar Modelo"
      ],
      "metadata": {
        "id": "nYHqusW4Im63"
      }
    },
    {
      "cell_type": "code",
      "source": [
        "model = GradientBoostingRegressor(random_state=seed, n_estimators=650)\n",
        "model.fit(X_train, y_train)\n",
        "\n",
        "#gravar o modelo no disco\n",
        "#filename = 'boston_model.sav'\n",
        "#dump(model, filename)"
      ],
      "metadata": {
        "id": "r4Pdmheussmj"
      },
      "execution_count": null,
      "outputs": []
    },
    {
      "cell_type": "markdown",
      "source": [
        "## 4.2 Carregar Modelo"
      ],
      "metadata": {
        "id": "Ah1niuXdJI8M"
      }
    },
    {
      "cell_type": "code",
      "source": [
        "#carregar modelo do disco \n",
        "#model = load(filename)"
      ],
      "metadata": {
        "id": "0BDKiT2IJMpS"
      },
      "execution_count": 31,
      "outputs": []
    },
    {
      "cell_type": "markdown",
      "source": [
        "## 4.3 Usar Modelo"
      ],
      "metadata": {
        "id": "M6v2tgUWJgsW"
      }
    },
    {
      "cell_type": "code",
      "source": [
        "prediction = model.predict(X_test)\n",
        "print(mean_squared_error(y_test, prediction))"
      ],
      "metadata": {
        "id": "opEL9Yu6tMIY"
      },
      "execution_count": null,
      "outputs": []
    }
  ]
}