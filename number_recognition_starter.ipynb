{
  "cells": [
    {
      "cell_type": "markdown",
      "metadata": {
        "id": "view-in-github",
        "colab_type": "text"
      },
      "source": [
        "<a href=\"https://colab.research.google.com/github/dbahiense/ml/blob/main/number_recognition_starter.ipynb\" target=\"_parent\"><img src=\"https://colab.research.google.com/assets/colab-badge.svg\" alt=\"Open In Colab\"/></a>"
      ]
    },
    {
      "cell_type": "markdown",
      "metadata": {
        "id": "pkJbE6s4TzVO"
      },
      "source": [
        "Source: https://projects.raspberrypi.org/en/projects/teach-a-computer-to-read/0"
      ]
    },
    {
      "cell_type": "code",
      "execution_count": null,
      "metadata": {
        "id": "D7KfGmRMwwFO"
      },
      "outputs": [],
      "source": [
        "import tensorflow as tf\n",
        "import numpy as np\n",
        "import matplotlib.pyplot as plt\n",
        "import os"
      ]
    },
    {
      "cell_type": "code",
      "execution_count": null,
      "metadata": {
        "id": "YDg7uzPLALRM"
      },
      "outputs": [],
      "source": [
        "def plot_accuracy_and_loss(history):\n",
        "  acc = history.history['accuracy']\n",
        "  val_acc = history.history['val_accuracy']\n",
        "\n",
        "  loss = history.history['loss']\n",
        "  val_loss = history.history['val_loss']\n",
        "\n",
        "  plt.figure(figsize=(8, 8))\n",
        "  plt.subplot(2, 1, 1)\n",
        "  plt.plot(acc, label='Training Accuracy')\n",
        "  plt.plot(val_acc, label='Validation Accuracy')\n",
        "  plt.legend(loc='lower right')\n",
        "  plt.ylabel('Accuracy')\n",
        "  plt.ylim([min(plt.ylim()),1])\n",
        "  plt.title('Training and Validation Accuracy')\n",
        "\n",
        "  plt.subplot(2, 1, 2)\n",
        "  plt.plot(loss, label='Training Loss')\n",
        "  plt.plot(val_loss, label='Validation Loss')\n",
        "  plt.legend(loc='upper right')\n",
        "  plt.ylabel('Cross Entropy Loss')\n",
        "  plt.ylim([0,1.0])\n",
        "  plt.title('Training and Validation Loss')\n",
        "  plt.xlabel('epoch')\n",
        "  plt.show()"
      ]
    },
    {
      "cell_type": "code",
      "execution_count": null,
      "metadata": {
        "id": "7CIlGABA8Z2M"
      },
      "outputs": [],
      "source": [
        "IMAGE_SIZE = 28\n",
        "training_labels = None\n",
        "\n",
        "def get_image_from_url(image_url):\n",
        "  # If the temporary test_image.jpg file already exists, \n",
        "  # delete it so a new one can be made.\n",
        "  if os.path.exists('/root/.keras/datasets/test_image.jpg'):\n",
        "    os.remove('/root/.keras/datasets/test_image.jpg')\n",
        "\n",
        "  image_path = tf.keras.utils.get_file('test_image.jpg', origin=image_url)\n",
        "  return image_path\n",
        "\n",
        "def predict_image(image_url, labels = training_labels):\n",
        "  image_path = get_image_from_url(image_url)\n",
        "  \n",
        "  image = tf.keras.preprocessing.image.load_img(image_path, target_size=(IMAGE_SIZE, IMAGE_SIZE)).convert('L')\n",
        "\n",
        "  plt.figure()\n",
        "  plt.imshow(image, cmap='gray')\n",
        "\n",
        "  image = tf.keras.preprocessing.image.img_to_array(image)\n",
        "  image = np.expand_dims(image, axis=0)\n",
        "  prediction_result = model.predict(image, batch_size=1)\n",
        "  print('Your model predicts this number is {}'.format(prediction_result.argmax()))"
      ]
    },
    {
      "cell_type": "markdown",
      "metadata": {
        "id": "qfgXlePmih5U"
      },
      "source": [
        "Load the MNIST data you'll use to train your model."
      ]
    },
    {
      "cell_type": "code",
      "execution_count": null,
      "metadata": {
        "id": "Fi3eKXnwxGk1"
      },
      "outputs": [],
      "source": [
        "numbers = tf.keras.datasets.mnist\n",
        "\n",
        "(training_images, training_labels), (validation_images, validation_labels) = numbers.load_data()"
      ]
    },
    {
      "cell_type": "markdown",
      "metadata": {
        "id": "JVucaxhQiiYY"
      },
      "source": [
        "Explore your data and print out a number."
      ]
    },
    {
      "cell_type": "code",
      "execution_count": 49,
      "metadata": {
        "colab": {
          "base_uri": "https://localhost:8080/",
          "height": 1000
        },
        "id": "yrkeZF9_1zCw",
        "outputId": "b6e09f2a-9504-4cef-e981-8f91a2ac6572"
      },
      "outputs": [
        {
          "output_type": "stream",
          "name": "stdout",
          "text": [
            "3\n",
            "[[0.         0.         0.         0.         0.         0.\n",
            "  0.         0.         0.         0.         0.         0.\n",
            "  0.         0.         0.         0.         0.         0.\n",
            "  0.         0.         0.         0.         0.         0.\n",
            "  0.         0.         0.         0.        ]\n",
            " [0.         0.         0.         0.         0.         0.\n",
            "  0.         0.         0.         0.         0.         0.\n",
            "  0.         0.         0.         0.         0.         0.\n",
            "  0.         0.         0.         0.         0.         0.\n",
            "  0.         0.         0.         0.        ]\n",
            " [0.         0.         0.         0.         0.         0.\n",
            "  0.         0.         0.         0.         0.         0.\n",
            "  0.         0.         0.         0.         0.         0.\n",
            "  0.         0.         0.         0.         0.         0.\n",
            "  0.         0.         0.         0.        ]\n",
            " [0.         0.         0.         0.         0.         0.\n",
            "  0.         0.         0.         0.         0.         0.\n",
            "  0.         0.         0.         0.         0.         0.\n",
            "  0.         0.         0.         0.         0.         0.\n",
            "  0.         0.         0.         0.        ]\n",
            " [0.         0.         0.         0.         0.         0.\n",
            "  0.         0.         0.         0.         0.         0.\n",
            "  0.         0.         0.         0.         0.         0.\n",
            "  0.         0.         0.         0.         0.         0.\n",
            "  0.         0.         0.         0.        ]\n",
            " [0.         0.         0.         0.04705882 0.38823529 0.35686275\n",
            "  0.55686275 0.60784314 0.96470588 0.71372549 0.60784314 0.60784314\n",
            "  0.60784314 0.60784314 0.51372549 0.20392157 0.         0.\n",
            "  0.         0.         0.         0.         0.         0.\n",
            "  0.         0.         0.         0.        ]\n",
            " [0.         0.         0.         0.54117647 0.99607843 0.99607843\n",
            "  0.99607843 0.99607843 0.99607843 0.99607843 0.99607843 0.99607843\n",
            "  0.99607843 0.99607843 0.99607843 0.98823529 0.82352941 0.47843137\n",
            "  0.12941176 0.         0.         0.         0.         0.\n",
            "  0.         0.         0.         0.        ]\n",
            " [0.         0.         0.         0.8627451  0.99607843 0.99607843\n",
            "  0.99607843 0.92156863 0.74117647 0.74117647 0.74117647 0.74117647\n",
            "  0.58823529 0.74117647 0.80392157 0.99607843 0.99607843 0.99607843\n",
            "  0.29411765 0.         0.         0.         0.         0.\n",
            "  0.         0.         0.         0.        ]\n",
            " [0.         0.         0.         0.1372549  0.29019608 0.1372549\n",
            "  0.1372549  0.09803922 0.         0.         0.         0.\n",
            "  0.         0.         0.05098039 0.87843137 0.99607843 0.99607843\n",
            "  0.6        0.         0.         0.         0.         0.\n",
            "  0.         0.         0.         0.        ]\n",
            " [0.         0.         0.         0.         0.         0.\n",
            "  0.         0.         0.         0.         0.         0.\n",
            "  0.         0.         0.35294118 0.99607843 0.99607843 0.96862745\n",
            "  0.20784314 0.         0.         0.         0.         0.\n",
            "  0.         0.         0.         0.        ]\n",
            " [0.         0.         0.         0.         0.         0.\n",
            "  0.         0.         0.         0.         0.         0.\n",
            "  0.02352941 0.59607843 0.96470588 0.99607843 0.99607843 0.19215686\n",
            "  0.         0.         0.         0.         0.         0.\n",
            "  0.         0.         0.         0.        ]\n",
            " [0.         0.         0.         0.         0.         0.\n",
            "  0.         0.         0.         0.         0.         0.25882353\n",
            "  0.61960784 0.99607843 0.99607843 0.97647059 0.40392157 0.03137255\n",
            "  0.         0.         0.         0.         0.         0.\n",
            "  0.         0.         0.         0.        ]\n",
            " [0.         0.         0.         0.         0.         0.\n",
            "  0.         0.         0.         0.         0.21176471 0.98431373\n",
            "  0.99607843 0.99607843 0.99607843 0.97254902 0.29019608 0.01960784\n",
            "  0.         0.         0.         0.         0.         0.\n",
            "  0.         0.         0.         0.        ]\n",
            " [0.         0.         0.         0.         0.         0.\n",
            "  0.         0.         0.         0.         0.54901961 0.99607843\n",
            "  0.99607843 0.99607843 0.99607843 0.99607843 0.99607843 0.79215686\n",
            "  0.49019608 0.17647059 0.         0.         0.         0.\n",
            "  0.         0.         0.         0.        ]\n",
            " [0.         0.         0.         0.         0.         0.\n",
            "  0.         0.         0.         0.         0.22745098 0.70980392\n",
            "  0.91764706 0.99607843 0.99607843 0.99607843 0.99607843 0.99607843\n",
            "  0.99607843 0.98823529 0.54901961 0.08627451 0.         0.\n",
            "  0.         0.         0.         0.        ]\n",
            " [0.         0.         0.         0.         0.         0.\n",
            "  0.         0.         0.         0.         0.         0.\n",
            "  0.11764706 0.19607843 0.28627451 0.60784314 0.99215686 0.99607843\n",
            "  0.99607843 0.99607843 0.99607843 0.74901961 0.00784314 0.\n",
            "  0.         0.         0.         0.        ]\n",
            " [0.         0.         0.         0.         0.         0.\n",
            "  0.         0.         0.         0.         0.         0.\n",
            "  0.         0.         0.         0.         0.35686275 0.78431373\n",
            "  0.99607843 0.99607843 0.99607843 0.99607843 0.4627451  0.\n",
            "  0.         0.         0.         0.        ]\n",
            " [0.         0.         0.         0.         0.         0.\n",
            "  0.         0.         0.         0.         0.         0.\n",
            "  0.         0.         0.         0.         0.         0.01568627\n",
            "  0.75294118 0.99607843 0.99607843 0.99607843 0.60392157 0.\n",
            "  0.         0.         0.         0.        ]\n",
            " [0.         0.         0.         0.         0.         0.\n",
            "  0.         0.         0.         0.         0.         0.\n",
            "  0.         0.         0.         0.         0.         0.\n",
            "  0.55294118 0.99607843 0.99607843 0.99607843 0.45490196 0.\n",
            "  0.         0.         0.         0.        ]\n",
            " [0.         0.         0.         0.         0.         0.\n",
            "  0.         0.         0.09803922 0.49411765 0.3372549  0.\n",
            "  0.         0.         0.         0.         0.         0.01176471\n",
            "  0.7372549  0.99607843 0.99607843 0.98039216 0.23921569 0.\n",
            "  0.         0.         0.         0.        ]\n",
            " [0.         0.         0.         0.         0.         0.\n",
            "  0.         0.09411765 0.81960784 0.99607843 0.05882353 0.\n",
            "  0.         0.         0.         0.         0.09019608 0.5372549\n",
            "  0.99607843 0.99607843 0.99607843 0.81960784 0.         0.\n",
            "  0.         0.         0.         0.        ]\n",
            " [0.         0.         0.         0.         0.         0.\n",
            "  0.         0.65882353 0.99607843 0.99607843 0.18823529 0.03529412\n",
            "  0.         0.         0.03529412 0.49803922 0.94509804 0.99607843\n",
            "  0.99607843 1.         0.94901961 0.24705882 0.         0.\n",
            "  0.         0.         0.         0.        ]\n",
            " [0.         0.         0.         0.         0.         0.\n",
            "  0.         0.39607843 0.99607843 0.99607843 0.99607843 0.80392157\n",
            "  0.74509804 0.74509804 0.80392157 0.99607843 0.99607843 0.99607843\n",
            "  0.99607843 0.94901961 0.2627451  0.         0.         0.\n",
            "  0.         0.         0.         0.        ]\n",
            " [0.         0.         0.         0.         0.         0.\n",
            "  0.         0.12941176 0.65098039 0.99607843 0.99607843 0.99607843\n",
            "  0.99607843 0.99607843 0.99607843 0.99607843 0.99607843 0.98039216\n",
            "  0.54117647 0.21568627 0.         0.         0.         0.\n",
            "  0.         0.         0.         0.        ]\n",
            " [0.         0.         0.         0.         0.         0.\n",
            "  0.         0.         0.02745098 0.34509804 0.60392157 0.45490196\n",
            "  0.76078431 0.76078431 0.60392157 0.60392157 0.34509804 0.19215686\n",
            "  0.         0.         0.         0.         0.         0.\n",
            "  0.         0.         0.         0.        ]\n",
            " [0.         0.         0.         0.         0.         0.\n",
            "  0.         0.         0.         0.         0.         0.\n",
            "  0.         0.         0.         0.         0.         0.\n",
            "  0.         0.         0.         0.         0.         0.\n",
            "  0.         0.         0.         0.        ]\n",
            " [0.         0.         0.         0.         0.         0.\n",
            "  0.         0.         0.         0.         0.         0.\n",
            "  0.         0.         0.         0.         0.         0.\n",
            "  0.         0.         0.         0.         0.         0.\n",
            "  0.         0.         0.         0.        ]\n",
            " [0.         0.         0.         0.         0.         0.\n",
            "  0.         0.         0.         0.         0.         0.\n",
            "  0.         0.         0.         0.         0.         0.\n",
            "  0.         0.         0.         0.         0.         0.\n",
            "  0.         0.         0.         0.        ]]\n"
          ]
        },
        {
          "output_type": "display_data",
          "data": {
            "text/plain": [
              "<Figure size 432x288 with 1 Axes>"
            ],
            "image/png": "[encoded data removed]"
          },
          "metadata": {
            "needs_background": "light"
          }
        }
      ],
      "source": [
        "plt.imshow(training_images[12], cmap='gray')\n",
        "print(training_labels[12])\n",
        "\n",
        "print(training_images[12])"
      ]
    },
    {
      "cell_type": "markdown",
      "metadata": {
        "id": "Lg5z4DQU4cPi"
      },
      "source": [
        "Divide your images so all their colour values are between 0 and 1."
      ]
    },
    {
      "cell_type": "code",
      "execution_count": null,
      "metadata": {
        "id": "lqiA0Y1j4cfR"
      },
      "outputs": [],
      "source": [
        "training_images = training_images / 255.0\n",
        "validation_images = validation_images / 255.0"
      ]
    },
    {
      "cell_type": "markdown",
      "metadata": {
        "id": "4G77KaezijCl"
      },
      "source": [
        "Build your model out of layers."
      ]
    },
    {
      "cell_type": "code",
      "execution_count": null,
      "metadata": {
        "id": "6rozmU_q2G0E"
      },
      "outputs": [],
      "source": [
        "model = tf.keras.Sequential([\n",
        "                                    tf.keras.layers.Flatten(input_shape=(28,28)),\n",
        "                                    tf.keras.layers.Dense(500, activation='relu'),\n",
        "                                    tf.keras.layers.Dense(300, activation='relu'),\n",
        "                                    tf.keras.layers.Dense(10, activation= 'softmax')\n",
        "                                    ])"
      ]
    },
    {
      "cell_type": "markdown",
      "metadata": {
        "id": "tsB3wL-iijbT"
      },
      "source": [
        "Compile your model and look at its structure."
      ]
    },
    {
      "cell_type": "code",
      "execution_count": null,
      "metadata": {
        "colab": {
          "base_uri": "https://localhost:8080/"
        },
        "id": "py6Kn1bu40g3",
        "outputId": "3595e686-cc16-41cb-bf87-e490bf64d221"
      },
      "outputs": [
        {
          "output_type": "stream",
          "name": "stdout",
          "text": [
            "Model: \"sequential_1\"\n",
            "_________________________________________________________________\n",
            " Layer (type)                Output Shape              Param #   \n",
            "=================================================================\n",
            " flatten_1 (Flatten)         (None, 784)               0         \n",
            "                                                                 \n",
            " dense_3 (Dense)             (None, 500)               392500    \n",
            "                                                                 \n",
            " dense_4 (Dense)             (None, 300)               150300    \n",
            "                                                                 \n",
            " dense_5 (Dense)             (None, 10)                3010      \n",
            "                                                                 \n",
            "=================================================================\n",
            "Total params: 545,810\n",
            "Trainable params: 545,810\n",
            "Non-trainable params: 0\n",
            "_________________________________________________________________\n"
          ]
        }
      ],
      "source": [
        "model.compile(optimizer='adam',\n",
        "              loss=tf.keras.losses.SparseCategoricalCrossentropy(),\n",
        "              metrics=['accuracy'])\n",
        "\n",
        "model.summary()"
      ]
    },
    {
      "cell_type": "markdown",
      "metadata": {
        "id": "cxobgTCvij0T"
      },
      "source": [
        "Train your model."
      ]
    },
    {
      "cell_type": "code",
      "execution_count": null,
      "metadata": {
        "colab": {
          "base_uri": "https://localhost:8080/",
          "height": 860
        },
        "id": "4i3Ojnl3AOPN",
        "outputId": "a08e46c9-cf96-49a1-8433-dbc2c56f91d9"
      },
      "outputs": [
        {
          "output_type": "stream",
          "name": "stdout",
          "text": [
            "Epoch 1/10\n",
            "600/600 [==============================] - 9s 14ms/step - loss: 0.2100 - accuracy: 0.9379 - val_loss: 0.1003 - val_accuracy: 0.9688\n",
            "Epoch 2/10\n",
            "600/600 [==============================] - 6s 11ms/step - loss: 0.0802 - accuracy: 0.9751 - val_loss: 0.0797 - val_accuracy: 0.9750\n",
            "Epoch 3/10\n",
            "600/600 [==============================] - 7s 11ms/step - loss: 0.0516 - accuracy: 0.9836 - val_loss: 0.0738 - val_accuracy: 0.9765\n",
            "Epoch 4/10\n",
            "600/600 [==============================] - 7s 12ms/step - loss: 0.0361 - accuracy: 0.9878 - val_loss: 0.0664 - val_accuracy: 0.9788\n",
            "Epoch 5/10\n",
            "600/600 [==============================] - 7s 11ms/step - loss: 0.0317 - accuracy: 0.9897 - val_loss: 0.0716 - val_accuracy: 0.9790\n",
            "Epoch 6/10\n",
            "600/600 [==============================] - 7s 11ms/step - loss: 0.0206 - accuracy: 0.9934 - val_loss: 0.0700 - val_accuracy: 0.9805\n",
            "Epoch 7/10\n",
            "600/600 [==============================] - 7s 12ms/step - loss: 0.0197 - accuracy: 0.9937 - val_loss: 0.0727 - val_accuracy: 0.9809\n",
            "Epoch 8/10\n",
            "600/600 [==============================] - 7s 12ms/step - loss: 0.0166 - accuracy: 0.9943 - val_loss: 0.0836 - val_accuracy: 0.9818\n",
            "Epoch 9/10\n",
            "600/600 [==============================] - 7s 12ms/step - loss: 0.0170 - accuracy: 0.9947 - val_loss: 0.0847 - val_accuracy: 0.9800\n",
            "Epoch 10/10\n",
            "600/600 [==============================] - 7s 12ms/step - loss: 0.0129 - accuracy: 0.9959 - val_loss: 0.0841 - val_accuracy: 0.9801\n"
          ]
        },
        {
          "output_type": "display_data",
          "data": {
            "text/plain": [
              "<Figure size 576x576 with 2 Axes>"
            ],
            "image/png": "[encoded data removed]"
          },
          "metadata": {
            "needs_background": "light"
          }
        }
      ],
      "source": [
        "history = model.fit(training_images,\n",
        "                    training_labels,\n",
        "                    batch_size=100,\n",
        "                    epochs=10,\n",
        "                    validation_data = (validation_images, validation_labels)\n",
        "                    )\n",
        "\n",
        "plot_accuracy_and_loss(history)"
      ]
    },
    {
      "cell_type": "markdown",
      "metadata": {
        "id": "ARfQ8ReUikNr"
      },
      "source": [
        "Test your model."
      ]
    },
    {
      "cell_type": "code",
      "execution_count": null,
      "metadata": {
        "colab": {
          "base_uri": "https://localhost:8080/",
          "height": 337
        },
        "id": "6LwRtn1--JUV",
        "outputId": "35dab40c-128b-4ec8-b47f-060470ad45a4"
      },
      "outputs": [
        {
          "output_type": "stream",
          "name": "stdout",
          "text": [
            "Downloading data from data:image/jpeg;base64,/9j/4AAQSkZJRgABAQAAAQABAAD/2wCEAAkGBwgHBgkIBwgKCgkLDRYPDQwMDRsUFRAWIB0iIiAdHx8kKDQsJCYxJx8fLT0tMTU3Ojo6Iys/RD84QzQ5OjcBCgoKDQwNGg8PGjclHyU3Nzc3Nzc3Nzc3Nzc3Nzc3Nzc3Nzc3Nzc3Nzc3Nzc3Nzc3Nzc3Nzc3Nzc3Nzc3Nzc3N//AABEIAIsAiwMBIgACEQEDEQH/xAAcAAEBAQACAwEAAAAAAAAAAAAAAQcFBgMECAL/xAA1EAABBAECAwUFBwUBAAAAAAAAAQIDBAUGERIhMQdBUWGRE3GBocEiJDJDYnKCFBYzQqIV/8QAGAEBAQEBAQAAAAAAAAAAAAAAAAMCAQT/xAAeEQEAAgMBAAMBAAAAAAAAAAAAARECAzEhIkFCEv/aAAwDAQACEQMRAD8A3EBQAAAAAgFJuDoWsdaPrzvx+He1JGLwy2NkXhXwb5+ZyZp2It30bmEyZO5PMnt79hZN991mdv8ADmdm0dq+3XvQ0sjO6erK5GI+Rd3Rr0Tn4bmI2RbX8U1EEKUYAAAAAAAAQFAEBQBAUAeG218lWZkTuGR0bka7wXbkp8+yTpHYWBGvktcfs0hRPtOfvtt6n0OeBKNRLP8AUpVgSwv5qRpxevUzljbWOVOgYzssx02LbJl5LH/qyN43Sxy7JC5eiInRdvM6RchmoXZqdr/NC9Y3KneqL1TyXr8TfVMa7QI0j1bdVNvtIx3/AChjOIiGsJuWq6euLfwlK0v4pIWq737c/mcgdc7PZPaaTp/pV7fR6nZCkcYnqFAOuBCgAAAIAUAAAAAAgKAIpjvaBIkmq7qJ/qjG7/wQ123YiqVpbFhyMiiar3uXuRDCMvfdkMnbuqi8U0jn7eCdET05EtvKb19ax2dx+z0nT/U6R3q9TspxmmqbsfgaNWRNpI4W8f7l5r81OSKY8ZnqgA64AAAQoAhSFAAAAAAB+JpWQRPllejI2NVznOXZEROqn7PUytNuRxtqk9ytbYhdEqp3bptuBlWttYS5ly1KCqzHtdzVesyp3r4J4IeXs+00/J3mZG237lWeisRfzXpzRPcnX5eJxed0plMDGk1xsT66v4Eljdvz7t025HK9needRy7cfI/7rbdsjVX8Encqe/p6Hnj3L5LfnxrQAPQiAAAAAAAAAAAAAAAAAADj89j2ZXD26T05yxqjV8HdWr8F2MHrSuqXIpVRWSQyI7n3Ki7/AEPodTBtX10rakykLE2RLDnIn7vtfUltj7U1t3jej2NenRyIp+z0cJIs2GoSr1fWjcu/m1D3iqYAAAAAAACFIUAAAAAAAACKYdr3b+78l4K9qKv8Gm4qYLrOf2+qcmvclhzfTl9CW3imvrYdGy+20ti3777V2t9OX0OaOv6CYsekMYi784eLn5qqnYCkcYnoADrgAAAAAAAAAAAAAA43OZujg6qWL8vA1zuFje9y+R48JqLHZpF/opt3tTdWO5Lt9TllOVVdk3PnTMWEs5O9OnNZJ5Hpsvi5VNt1tm48Jp61Mrtp5GLFAidVeqbIvw6mN6YoLls9QpIm6Pla5/7G83fJPmT2ezEKYeet1wlZKWHo1U/Jrxs9Goe8RE2KUhMAB0AAAAAEKQoAAAACAdI7UsDZyuNrW6THySUnOV0TOauY7bdUTvVNk+Zk9HIWaFhJqsro5GruuyqiofR/U467gMPfc59zGVJnu6vdC3iX49SeWFzbcZVFSwPLZO7k5Wy37Mkzk5NRyqqJ7kNQ7MNMTYyCTKZGJWWrCcMTH9Y4+vPwVfodloaWwWPnSenjK8czfwv4d1b7t+hzAxwqbknK4qFABRgAAAAAAABCkRERd0TqUAAFAAAAAAAAAAAAAAAAAAAD/9k=\n",
            "16384/1418 [==========================================================================================================================================================================================================================================================================================================================================================] - 0s 0us/step\n",
            "Your model predicts this number is 0\n"
          ]
        },
        {
          "output_type": "display_data",
          "data": {
            "text/plain": [
              "<Figure size 432x288 with 1 Axes>"
            ],
            "image/png": "[encoded data removed]"
          },
          "metadata": {
            "needs_background": "light"
          }
        }
      ],
      "source": [
        "predict_image('data:image/jpeg;base64,/9j/4AAQSkZJRgABAQAAAQABAAD/2wCEAAkGBwgHBgkIBwgKCgkLDRYPDQwMDRsUFRAWIB0iIiAdHx8kKDQsJCYxJx8fLT0tMTU3Ojo6Iys/RD84QzQ5OjcBCgoKDQwNGg8PGjclHyU3Nzc3Nzc3Nzc3Nzc3Nzc3Nzc3Nzc3Nzc3Nzc3Nzc3Nzc3Nzc3Nzc3Nzc3Nzc3Nzc3N//AABEIAIsAiwMBIgACEQEDEQH/xAAcAAEBAQACAwEAAAAAAAAAAAAAAQcFBgMECAL/xAA1EAABBAECAwUFBwUBAAAAAAAAAQIDBAUGERIhMQdBUWGRE3GBocEiJDJDYnKCFBYzQqIV/8QAGAEBAQEBAQAAAAAAAAAAAAAAAAMCAQT/xAAeEQEAAgMBAAMBAAAAAAAAAAAAARECAzEhIkFCEv/aAAwDAQACEQMRAD8A3EBQAAAAAgFJuDoWsdaPrzvx+He1JGLwy2NkXhXwb5+ZyZp2It30bmEyZO5PMnt79hZN991mdv8ADmdm0dq+3XvQ0sjO6erK5GI+Rd3Rr0Tn4bmI2RbX8U1EEKUYAAAAAAAAQFAEBQBAUAeG218lWZkTuGR0bka7wXbkp8+yTpHYWBGvktcfs0hRPtOfvtt6n0OeBKNRLP8AUpVgSwv5qRpxevUzljbWOVOgYzssx02LbJl5LH/qyN43Sxy7JC5eiInRdvM6RchmoXZqdr/NC9Y3KneqL1TyXr8TfVMa7QI0j1bdVNvtIx3/AChjOIiGsJuWq6euLfwlK0v4pIWq737c/mcgdc7PZPaaTp/pV7fR6nZCkcYnqFAOuBCgAAAIAUAAAAAAgKAIpjvaBIkmq7qJ/qjG7/wQ123YiqVpbFhyMiiar3uXuRDCMvfdkMnbuqi8U0jn7eCdET05EtvKb19ax2dx+z0nT/U6R3q9TspxmmqbsfgaNWRNpI4W8f7l5r81OSKY8ZnqgA64AAAQoAhSFAAAAAAB+JpWQRPllejI2NVznOXZEROqn7PUytNuRxtqk9ytbYhdEqp3bptuBlWttYS5ly1KCqzHtdzVesyp3r4J4IeXs+00/J3mZG237lWeisRfzXpzRPcnX5eJxed0plMDGk1xsT66v4Eljdvz7t025HK9needRy7cfI/7rbdsjVX8Encqe/p6Hnj3L5LfnxrQAPQiAAAAAAAAAAAAAAAAAADj89j2ZXD26T05yxqjV8HdWr8F2MHrSuqXIpVRWSQyI7n3Ki7/AEPodTBtX10rakykLE2RLDnIn7vtfUltj7U1t3jej2NenRyIp+z0cJIs2GoSr1fWjcu/m1D3iqYAAAAAAACFIUAAAAAAAACKYdr3b+78l4K9qKv8Gm4qYLrOf2+qcmvclhzfTl9CW3imvrYdGy+20ti3777V2t9OX0OaOv6CYsekMYi784eLn5qqnYCkcYnoADrgAAAAAAAAAAAAAA43OZujg6qWL8vA1zuFje9y+R48JqLHZpF/opt3tTdWO5Lt9TllOVVdk3PnTMWEs5O9OnNZJ5Hpsvi5VNt1tm48Jp61Mrtp5GLFAidVeqbIvw6mN6YoLls9QpIm6Pla5/7G83fJPmT2ezEKYeet1wlZKWHo1U/Jrxs9Goe8RE2KUhMAB0AAAAAEKQoAAAACAdI7UsDZyuNrW6THySUnOV0TOauY7bdUTvVNk+Zk9HIWaFhJqsro5GruuyqiofR/U467gMPfc59zGVJnu6vdC3iX49SeWFzbcZVFSwPLZO7k5Wy37Mkzk5NRyqqJ7kNQ7MNMTYyCTKZGJWWrCcMTH9Y4+vPwVfodloaWwWPnSenjK8czfwv4d1b7t+hzAxwqbknK4qFABRgAAAAAAABCkRERd0TqUAAFAAAAAAAAAAAAAAAAAAAD/9k=')"
      ]
    }
  ],
  "metadata": {
    "colab": {
      "collapsed_sections": [],
      "name": "number_recognition_starter",
      "provenance": [],
      "include_colab_link": true
    },
    "kernelspec": {
      "display_name": "Python 3",
      "name": "python3"
    }
  },
  "nbformat": 4,
  "nbformat_minor": 0
}